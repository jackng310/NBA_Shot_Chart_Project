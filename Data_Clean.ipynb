{
 "cells": [
  {
   "cell_type": "code",
   "execution_count": 1,
   "metadata": {},
   "outputs": [],
   "source": [
    "import pandas as pd\n",
    "import numpy as np\n",
    "import seaborn as sns\n",
    "\n",
    "%matplotlib inline\n",
    "from matplotlib.patches import Circle, Rectangle, Arc\n",
    "import matplotlib.pyplot as plt\n",
    "pd.set_option('display.max_columns', None)"
   ]
  },
  {
   "cell_type": "code",
   "execution_count": 2,
   "metadata": {},
   "outputs": [],
   "source": [
    "shot_data = pd.read_csv('/Users/jaycohen/Documents/NYCDSA/Capstone_Project/NBA_Shot_Project/data/all_shots.csv')"
   ]
  },
  {
   "cell_type": "code",
   "execution_count": 6,
   "metadata": {},
   "outputs": [
    {
     "data": {
      "text/html": [
       "<div>\n",
       "<style scoped>\n",
       "    .dataframe tbody tr th:only-of-type {\n",
       "        vertical-align: middle;\n",
       "    }\n",
       "\n",
       "    .dataframe tbody tr th {\n",
       "        vertical-align: top;\n",
       "    }\n",
       "\n",
       "    .dataframe thead th {\n",
       "        text-align: right;\n",
       "    }\n",
       "</style>\n",
       "<table border=\"1\" class=\"dataframe\">\n",
       "  <thead>\n",
       "    <tr style=\"text-align: right;\">\n",
       "      <th></th>\n",
       "      <th>GRID_TYPE</th>\n",
       "      <th>GAME_ID</th>\n",
       "      <th>GAME_EVENT_ID</th>\n",
       "      <th>PLAYER_ID</th>\n",
       "      <th>PLAYER_NAME</th>\n",
       "      <th>TEAM_ID</th>\n",
       "      <th>TEAM_NAME</th>\n",
       "      <th>PERIOD</th>\n",
       "      <th>MINUTES_REMAINING</th>\n",
       "      <th>SECONDS_REMAINING</th>\n",
       "      <th>EVENT_TYPE</th>\n",
       "      <th>ACTION_TYPE</th>\n",
       "      <th>SHOT_TYPE</th>\n",
       "      <th>SHOT_ZONE_BASIC</th>\n",
       "      <th>SHOT_ZONE_AREA</th>\n",
       "      <th>SHOT_ZONE_RANGE</th>\n",
       "      <th>SHOT_DISTANCE</th>\n",
       "      <th>LOC_X</th>\n",
       "      <th>LOC_Y</th>\n",
       "      <th>SHOT_ATTEMPTED_FLAG</th>\n",
       "      <th>SHOT_MADE_FLAG</th>\n",
       "      <th>GAME_DATE</th>\n",
       "      <th>HTM</th>\n",
       "      <th>VTM</th>\n",
       "    </tr>\n",
       "  </thead>\n",
       "  <tbody>\n",
       "    <tr>\n",
       "      <th>0</th>\n",
       "      <td>Shot Chart Detail</td>\n",
       "      <td>21500014</td>\n",
       "      <td>20</td>\n",
       "      <td>202083</td>\n",
       "      <td>Wesley Matthews</td>\n",
       "      <td>1610612742</td>\n",
       "      <td>Dallas Mavericks</td>\n",
       "      <td>1</td>\n",
       "      <td>9</td>\n",
       "      <td>4</td>\n",
       "      <td>Missed Shot</td>\n",
       "      <td>Jump Shot</td>\n",
       "      <td>3PT Field Goal</td>\n",
       "      <td>Above the Break 3</td>\n",
       "      <td>Right Side Center(RC)</td>\n",
       "      <td>24+ ft.</td>\n",
       "      <td>24</td>\n",
       "      <td>78</td>\n",
       "      <td>228</td>\n",
       "      <td>1</td>\n",
       "      <td>0</td>\n",
       "      <td>20151028</td>\n",
       "      <td>PHX</td>\n",
       "      <td>DAL</td>\n",
       "    </tr>\n",
       "    <tr>\n",
       "      <th>1</th>\n",
       "      <td>Shot Chart Detail</td>\n",
       "      <td>21500014</td>\n",
       "      <td>168</td>\n",
       "      <td>202083</td>\n",
       "      <td>Wesley Matthews</td>\n",
       "      <td>1610612742</td>\n",
       "      <td>Dallas Mavericks</td>\n",
       "      <td>2</td>\n",
       "      <td>11</td>\n",
       "      <td>2</td>\n",
       "      <td>Missed Shot</td>\n",
       "      <td>Jump Shot</td>\n",
       "      <td>3PT Field Goal</td>\n",
       "      <td>Above the Break 3</td>\n",
       "      <td>Left Side Center(LC)</td>\n",
       "      <td>24+ ft.</td>\n",
       "      <td>25</td>\n",
       "      <td>-232</td>\n",
       "      <td>106</td>\n",
       "      <td>1</td>\n",
       "      <td>0</td>\n",
       "      <td>20151028</td>\n",
       "      <td>PHX</td>\n",
       "      <td>DAL</td>\n",
       "    </tr>\n",
       "    <tr>\n",
       "      <th>2</th>\n",
       "      <td>Shot Chart Detail</td>\n",
       "      <td>21500014</td>\n",
       "      <td>217</td>\n",
       "      <td>202083</td>\n",
       "      <td>Wesley Matthews</td>\n",
       "      <td>1610612742</td>\n",
       "      <td>Dallas Mavericks</td>\n",
       "      <td>2</td>\n",
       "      <td>8</td>\n",
       "      <td>10</td>\n",
       "      <td>Made Shot</td>\n",
       "      <td>Jump Shot</td>\n",
       "      <td>3PT Field Goal</td>\n",
       "      <td>Above the Break 3</td>\n",
       "      <td>Right Side Center(RC)</td>\n",
       "      <td>24+ ft.</td>\n",
       "      <td>24</td>\n",
       "      <td>177</td>\n",
       "      <td>174</td>\n",
       "      <td>1</td>\n",
       "      <td>1</td>\n",
       "      <td>20151028</td>\n",
       "      <td>PHX</td>\n",
       "      <td>DAL</td>\n",
       "    </tr>\n",
       "    <tr>\n",
       "      <th>3</th>\n",
       "      <td>Shot Chart Detail</td>\n",
       "      <td>21500014</td>\n",
       "      <td>340</td>\n",
       "      <td>202083</td>\n",
       "      <td>Wesley Matthews</td>\n",
       "      <td>1610612742</td>\n",
       "      <td>Dallas Mavericks</td>\n",
       "      <td>3</td>\n",
       "      <td>10</td>\n",
       "      <td>57</td>\n",
       "      <td>Made Shot</td>\n",
       "      <td>Jump Shot</td>\n",
       "      <td>3PT Field Goal</td>\n",
       "      <td>Above the Break 3</td>\n",
       "      <td>Right Side Center(RC)</td>\n",
       "      <td>24+ ft.</td>\n",
       "      <td>24</td>\n",
       "      <td>222</td>\n",
       "      <td>111</td>\n",
       "      <td>1</td>\n",
       "      <td>1</td>\n",
       "      <td>20151028</td>\n",
       "      <td>PHX</td>\n",
       "      <td>DAL</td>\n",
       "    </tr>\n",
       "    <tr>\n",
       "      <th>4</th>\n",
       "      <td>Shot Chart Detail</td>\n",
       "      <td>21500014</td>\n",
       "      <td>358</td>\n",
       "      <td>202083</td>\n",
       "      <td>Wesley Matthews</td>\n",
       "      <td>1610612742</td>\n",
       "      <td>Dallas Mavericks</td>\n",
       "      <td>3</td>\n",
       "      <td>9</td>\n",
       "      <td>33</td>\n",
       "      <td>Missed Shot</td>\n",
       "      <td>Jump Shot</td>\n",
       "      <td>2PT Field Goal</td>\n",
       "      <td>Mid-Range</td>\n",
       "      <td>Right Side(R)</td>\n",
       "      <td>16-24 ft.</td>\n",
       "      <td>21</td>\n",
       "      <td>182</td>\n",
       "      <td>110</td>\n",
       "      <td>1</td>\n",
       "      <td>0</td>\n",
       "      <td>20151028</td>\n",
       "      <td>PHX</td>\n",
       "      <td>DAL</td>\n",
       "    </tr>\n",
       "    <tr>\n",
       "      <th>...</th>\n",
       "      <td>...</td>\n",
       "      <td>...</td>\n",
       "      <td>...</td>\n",
       "      <td>...</td>\n",
       "      <td>...</td>\n",
       "      <td>...</td>\n",
       "      <td>...</td>\n",
       "      <td>...</td>\n",
       "      <td>...</td>\n",
       "      <td>...</td>\n",
       "      <td>...</td>\n",
       "      <td>...</td>\n",
       "      <td>...</td>\n",
       "      <td>...</td>\n",
       "      <td>...</td>\n",
       "      <td>...</td>\n",
       "      <td>...</td>\n",
       "      <td>...</td>\n",
       "      <td>...</td>\n",
       "      <td>...</td>\n",
       "      <td>...</td>\n",
       "      <td>...</td>\n",
       "      <td>...</td>\n",
       "      <td>...</td>\n",
       "    </tr>\n",
       "    <tr>\n",
       "      <th>205533</th>\n",
       "      <td>Shot Chart Detail</td>\n",
       "      <td>21501194</td>\n",
       "      <td>66</td>\n",
       "      <td>202693</td>\n",
       "      <td>Markieff Morris</td>\n",
       "      <td>1610612764</td>\n",
       "      <td>Washington Wizards</td>\n",
       "      <td>1</td>\n",
       "      <td>4</td>\n",
       "      <td>24</td>\n",
       "      <td>Made Shot</td>\n",
       "      <td>Tip Layup Shot</td>\n",
       "      <td>2PT Field Goal</td>\n",
       "      <td>Restricted Area</td>\n",
       "      <td>Center(C)</td>\n",
       "      <td>Less Than 8 ft.</td>\n",
       "      <td>2</td>\n",
       "      <td>-19</td>\n",
       "      <td>-16</td>\n",
       "      <td>1</td>\n",
       "      <td>1</td>\n",
       "      <td>20160410</td>\n",
       "      <td>WAS</td>\n",
       "      <td>CHA</td>\n",
       "    </tr>\n",
       "    <tr>\n",
       "      <th>205534</th>\n",
       "      <td>Shot Chart Detail</td>\n",
       "      <td>21501194</td>\n",
       "      <td>81</td>\n",
       "      <td>202693</td>\n",
       "      <td>Markieff Morris</td>\n",
       "      <td>1610612764</td>\n",
       "      <td>Washington Wizards</td>\n",
       "      <td>1</td>\n",
       "      <td>3</td>\n",
       "      <td>20</td>\n",
       "      <td>Made Shot</td>\n",
       "      <td>Jump Shot</td>\n",
       "      <td>2PT Field Goal</td>\n",
       "      <td>In The Paint (Non-RA)</td>\n",
       "      <td>Center(C)</td>\n",
       "      <td>8-16 ft.</td>\n",
       "      <td>9</td>\n",
       "      <td>-29</td>\n",
       "      <td>95</td>\n",
       "      <td>1</td>\n",
       "      <td>1</td>\n",
       "      <td>20160410</td>\n",
       "      <td>WAS</td>\n",
       "      <td>CHA</td>\n",
       "    </tr>\n",
       "    <tr>\n",
       "      <th>205535</th>\n",
       "      <td>Shot Chart Detail</td>\n",
       "      <td>21501194</td>\n",
       "      <td>301</td>\n",
       "      <td>202693</td>\n",
       "      <td>Markieff Morris</td>\n",
       "      <td>1610612764</td>\n",
       "      <td>Washington Wizards</td>\n",
       "      <td>3</td>\n",
       "      <td>10</td>\n",
       "      <td>18</td>\n",
       "      <td>Missed Shot</td>\n",
       "      <td>Jump Shot</td>\n",
       "      <td>3PT Field Goal</td>\n",
       "      <td>Above the Break 3</td>\n",
       "      <td>Center(C)</td>\n",
       "      <td>24+ ft.</td>\n",
       "      <td>27</td>\n",
       "      <td>-60</td>\n",
       "      <td>267</td>\n",
       "      <td>1</td>\n",
       "      <td>0</td>\n",
       "      <td>20160410</td>\n",
       "      <td>WAS</td>\n",
       "      <td>CHA</td>\n",
       "    </tr>\n",
       "    <tr>\n",
       "      <th>205536</th>\n",
       "      <td>Shot Chart Detail</td>\n",
       "      <td>21501194</td>\n",
       "      <td>327</td>\n",
       "      <td>202693</td>\n",
       "      <td>Markieff Morris</td>\n",
       "      <td>1610612764</td>\n",
       "      <td>Washington Wizards</td>\n",
       "      <td>3</td>\n",
       "      <td>8</td>\n",
       "      <td>13</td>\n",
       "      <td>Made Shot</td>\n",
       "      <td>Pullup Jump shot</td>\n",
       "      <td>2PT Field Goal</td>\n",
       "      <td>Mid-Range</td>\n",
       "      <td>Center(C)</td>\n",
       "      <td>16-24 ft.</td>\n",
       "      <td>18</td>\n",
       "      <td>-17</td>\n",
       "      <td>183</td>\n",
       "      <td>1</td>\n",
       "      <td>1</td>\n",
       "      <td>20160410</td>\n",
       "      <td>WAS</td>\n",
       "      <td>CHA</td>\n",
       "    </tr>\n",
       "    <tr>\n",
       "      <th>205537</th>\n",
       "      <td>Shot Chart Detail</td>\n",
       "      <td>21501194</td>\n",
       "      <td>352</td>\n",
       "      <td>202693</td>\n",
       "      <td>Markieff Morris</td>\n",
       "      <td>1610612764</td>\n",
       "      <td>Washington Wizards</td>\n",
       "      <td>3</td>\n",
       "      <td>5</td>\n",
       "      <td>31</td>\n",
       "      <td>Missed Shot</td>\n",
       "      <td>Jump Shot</td>\n",
       "      <td>3PT Field Goal</td>\n",
       "      <td>Above the Break 3</td>\n",
       "      <td>Left Side Center(LC)</td>\n",
       "      <td>24+ ft.</td>\n",
       "      <td>29</td>\n",
       "      <td>-155</td>\n",
       "      <td>247</td>\n",
       "      <td>1</td>\n",
       "      <td>0</td>\n",
       "      <td>20160410</td>\n",
       "      <td>WAS</td>\n",
       "      <td>CHA</td>\n",
       "    </tr>\n",
       "  </tbody>\n",
       "</table>\n",
       "<p>205538 rows × 24 columns</p>\n",
       "</div>"
      ],
      "text/plain": [
       "                GRID_TYPE   GAME_ID  GAME_EVENT_ID  PLAYER_ID  \\\n",
       "0       Shot Chart Detail  21500014             20     202083   \n",
       "1       Shot Chart Detail  21500014            168     202083   \n",
       "2       Shot Chart Detail  21500014            217     202083   \n",
       "3       Shot Chart Detail  21500014            340     202083   \n",
       "4       Shot Chart Detail  21500014            358     202083   \n",
       "...                   ...       ...            ...        ...   \n",
       "205533  Shot Chart Detail  21501194             66     202693   \n",
       "205534  Shot Chart Detail  21501194             81     202693   \n",
       "205535  Shot Chart Detail  21501194            301     202693   \n",
       "205536  Shot Chart Detail  21501194            327     202693   \n",
       "205537  Shot Chart Detail  21501194            352     202693   \n",
       "\n",
       "            PLAYER_NAME     TEAM_ID           TEAM_NAME  PERIOD  \\\n",
       "0       Wesley Matthews  1610612742    Dallas Mavericks       1   \n",
       "1       Wesley Matthews  1610612742    Dallas Mavericks       2   \n",
       "2       Wesley Matthews  1610612742    Dallas Mavericks       2   \n",
       "3       Wesley Matthews  1610612742    Dallas Mavericks       3   \n",
       "4       Wesley Matthews  1610612742    Dallas Mavericks       3   \n",
       "...                 ...         ...                 ...     ...   \n",
       "205533  Markieff Morris  1610612764  Washington Wizards       1   \n",
       "205534  Markieff Morris  1610612764  Washington Wizards       1   \n",
       "205535  Markieff Morris  1610612764  Washington Wizards       3   \n",
       "205536  Markieff Morris  1610612764  Washington Wizards       3   \n",
       "205537  Markieff Morris  1610612764  Washington Wizards       3   \n",
       "\n",
       "        MINUTES_REMAINING  SECONDS_REMAINING   EVENT_TYPE       ACTION_TYPE  \\\n",
       "0                       9                  4  Missed Shot         Jump Shot   \n",
       "1                      11                  2  Missed Shot         Jump Shot   \n",
       "2                       8                 10    Made Shot         Jump Shot   \n",
       "3                      10                 57    Made Shot         Jump Shot   \n",
       "4                       9                 33  Missed Shot         Jump Shot   \n",
       "...                   ...                ...          ...               ...   \n",
       "205533                  4                 24    Made Shot    Tip Layup Shot   \n",
       "205534                  3                 20    Made Shot         Jump Shot   \n",
       "205535                 10                 18  Missed Shot         Jump Shot   \n",
       "205536                  8                 13    Made Shot  Pullup Jump shot   \n",
       "205537                  5                 31  Missed Shot         Jump Shot   \n",
       "\n",
       "             SHOT_TYPE        SHOT_ZONE_BASIC         SHOT_ZONE_AREA  \\\n",
       "0       3PT Field Goal      Above the Break 3  Right Side Center(RC)   \n",
       "1       3PT Field Goal      Above the Break 3   Left Side Center(LC)   \n",
       "2       3PT Field Goal      Above the Break 3  Right Side Center(RC)   \n",
       "3       3PT Field Goal      Above the Break 3  Right Side Center(RC)   \n",
       "4       2PT Field Goal              Mid-Range          Right Side(R)   \n",
       "...                ...                    ...                    ...   \n",
       "205533  2PT Field Goal        Restricted Area              Center(C)   \n",
       "205534  2PT Field Goal  In The Paint (Non-RA)              Center(C)   \n",
       "205535  3PT Field Goal      Above the Break 3              Center(C)   \n",
       "205536  2PT Field Goal              Mid-Range              Center(C)   \n",
       "205537  3PT Field Goal      Above the Break 3   Left Side Center(LC)   \n",
       "\n",
       "        SHOT_ZONE_RANGE  SHOT_DISTANCE  LOC_X  LOC_Y  SHOT_ATTEMPTED_FLAG  \\\n",
       "0               24+ ft.             24     78    228                    1   \n",
       "1               24+ ft.             25   -232    106                    1   \n",
       "2               24+ ft.             24    177    174                    1   \n",
       "3               24+ ft.             24    222    111                    1   \n",
       "4             16-24 ft.             21    182    110                    1   \n",
       "...                 ...            ...    ...    ...                  ...   \n",
       "205533  Less Than 8 ft.              2    -19    -16                    1   \n",
       "205534         8-16 ft.              9    -29     95                    1   \n",
       "205535          24+ ft.             27    -60    267                    1   \n",
       "205536        16-24 ft.             18    -17    183                    1   \n",
       "205537          24+ ft.             29   -155    247                    1   \n",
       "\n",
       "        SHOT_MADE_FLAG  GAME_DATE  HTM  VTM  \n",
       "0                    0   20151028  PHX  DAL  \n",
       "1                    0   20151028  PHX  DAL  \n",
       "2                    1   20151028  PHX  DAL  \n",
       "3                    1   20151028  PHX  DAL  \n",
       "4                    0   20151028  PHX  DAL  \n",
       "...                ...        ...  ...  ...  \n",
       "205533               1   20160410  WAS  CHA  \n",
       "205534               1   20160410  WAS  CHA  \n",
       "205535               0   20160410  WAS  CHA  \n",
       "205536               1   20160410  WAS  CHA  \n",
       "205537               0   20160410  WAS  CHA  \n",
       "\n",
       "[205538 rows x 24 columns]"
      ]
     },
     "execution_count": 6,
     "metadata": {},
     "output_type": "execute_result"
    }
   ],
   "source": [
    "shot_data"
   ]
  },
  {
   "cell_type": "code",
   "execution_count": 7,
   "metadata": {},
   "outputs": [],
   "source": [
    "Atlanta_Hawks_shot_data = shot_data.loc[shot_data['TEAM_NAME'] == 'Atlanta Hawks']"
   ]
  },
  {
   "cell_type": "code",
   "execution_count": 11,
   "metadata": {},
   "outputs": [],
   "source": [
    "Atlanta_Hawks_shot_data.to_csv('/Users/jaycohen/Documents/NYCDSA/Capstone_Project/NBA_Shot_Project/new_data/Atlanta_Hawks_shot_data.csv')"
   ]
  },
  {
   "cell_type": "code",
   "execution_count": 12,
   "metadata": {},
   "outputs": [],
   "source": [
    "Boston_Celtics_shot_data = shot_data.loc[shot_data['TEAM_NAME'] == 'Boston Celtics']"
   ]
  },
  {
   "cell_type": "code",
   "execution_count": 13,
   "metadata": {},
   "outputs": [],
   "source": [
    "Boston_Celtics_shot_data.to_csv('/Users/jaycohen/Documents/NYCDSA/Capstone_Project/NBA_Shot_Project/new_data/Boston_Celtics_shot_data.csv')"
   ]
  },
  {
   "cell_type": "code",
   "execution_count": 14,
   "metadata": {},
   "outputs": [],
   "source": [
    "Brooklyn_Nets_shot_data = shot_data.loc[shot_data['TEAM_NAME'] == 'Brooklyn Nets']"
   ]
  },
  {
   "cell_type": "code",
   "execution_count": 15,
   "metadata": {},
   "outputs": [],
   "source": [
    "Brooklyn_Nets_shot_data.to_csv('/Users/jaycohen/Documents/NYCDSA/Capstone_Project/NBA_Shot_Project/new_data/Brooklyn_Nets_shot_data.csv')"
   ]
  },
  {
   "cell_type": "code",
   "execution_count": 16,
   "metadata": {},
   "outputs": [],
   "source": [
    "Charlotte_Hornets_shot_data = shot_data.loc[shot_data['TEAM_NAME'] == 'Charlotte Hornets']"
   ]
  },
  {
   "cell_type": "code",
   "execution_count": 17,
   "metadata": {},
   "outputs": [],
   "source": [
    "Charlotte_Hornets_shot_data.to_csv('/Users/jaycohen/Documents/NYCDSA/Capstone_Project/NBA_Shot_Project/new_data/Charlotte_Hornets_shot_data.csv')"
   ]
  },
  {
   "cell_type": "code",
   "execution_count": 18,
   "metadata": {},
   "outputs": [],
   "source": [
    "Chicago_Bulls_shot_data = shot_data.loc[shot_data['TEAM_NAME'] == 'Chicago Bulls']"
   ]
  },
  {
   "cell_type": "code",
   "execution_count": 19,
   "metadata": {},
   "outputs": [],
   "source": [
    "Chicago_Bulls_shot_data.to_csv('/Users/jaycohen/Documents/NYCDSA/Capstone_Project/NBA_Shot_Project/new_data/Chicago_Bulls_shot_data.csv')"
   ]
  },
  {
   "cell_type": "code",
   "execution_count": 20,
   "metadata": {},
   "outputs": [],
   "source": [
    "Cleveland_Cavaliers_shot_data = shot_data.loc[shot_data['TEAM_NAME'] == 'Cleveland Cavaliers']"
   ]
  },
  {
   "cell_type": "code",
   "execution_count": 21,
   "metadata": {},
   "outputs": [],
   "source": [
    "Cleveland_Cavaliers_shot_data.to_csv('/Users/jaycohen/Documents/NYCDSA/Capstone_Project/NBA_Shot_Project/new_data/Cleveland_Cavaliers_shot_data.csv')"
   ]
  },
  {
   "cell_type": "code",
   "execution_count": 22,
   "metadata": {},
   "outputs": [],
   "source": [
    "Dallas_Mavericks_shot_data = shot_data.loc[shot_data['TEAM_NAME'] == 'Dallas Mavericks']"
   ]
  },
  {
   "cell_type": "code",
   "execution_count": 23,
   "metadata": {},
   "outputs": [],
   "source": [
    "Dallas_Mavericks_shot_data.to_csv('/Users/jaycohen/Documents/NYCDSA/Capstone_Project/NBA_Shot_Project/new_data/Dallas_Mavericks_shot_data.csv')"
   ]
  },
  {
   "cell_type": "code",
   "execution_count": 24,
   "metadata": {},
   "outputs": [],
   "source": [
    "Denver_Nuggets_shot_data = shot_data.loc[shot_data['TEAM_NAME'] == 'Denver Nuggets']"
   ]
  },
  {
   "cell_type": "code",
   "execution_count": 25,
   "metadata": {},
   "outputs": [],
   "source": [
    "Denver_Nuggets_shot_data.to_csv('/Users/jaycohen/Documents/NYCDSA/Capstone_Project/NBA_Shot_Project/new_data/Denver_Nuggets_shot_data.csv')"
   ]
  },
  {
   "cell_type": "code",
   "execution_count": 26,
   "metadata": {},
   "outputs": [],
   "source": [
    "Detroit_Pistons_shot_data = shot_data.loc[shot_data['TEAM_NAME'] == 'Detroit Pistons']"
   ]
  },
  {
   "cell_type": "code",
   "execution_count": 27,
   "metadata": {},
   "outputs": [],
   "source": [
    "Detroit_Pistons_shot_data.to_csv('/Users/jaycohen/Documents/NYCDSA/Capstone_Project/NBA_Shot_Project/new_data/Detroit_Pistons_shot_data.csv')"
   ]
  },
  {
   "cell_type": "code",
   "execution_count": 28,
   "metadata": {},
   "outputs": [],
   "source": [
    "Golden_State_Warriors_shot_data = shot_data.loc[shot_data['TEAM_NAME'] == 'Golden State Warriors']"
   ]
  },
  {
   "cell_type": "code",
   "execution_count": 29,
   "metadata": {},
   "outputs": [],
   "source": [
    "Golden_State_Warriors_shot_data.to_csv('/Users/jaycohen/Documents/NYCDSA/Capstone_Project/NBA_Shot_Project/new_data/Golden_State_Warriors_shot_data.csv')"
   ]
  },
  {
   "cell_type": "code",
   "execution_count": 30,
   "metadata": {},
   "outputs": [],
   "source": [
    "Houston_Rockets_shot_data = shot_data.loc[shot_data['TEAM_NAME'] == 'Houston Rockets']"
   ]
  },
  {
   "cell_type": "code",
   "execution_count": 31,
   "metadata": {},
   "outputs": [],
   "source": [
    "Houston_Rockets_shot_data.to_csv('/Users/jaycohen/Documents/NYCDSA/Capstone_Project/NBA_Shot_Project/new_data/Houston_Rockets_shot_data.csv')"
   ]
  },
  {
   "cell_type": "code",
   "execution_count": 32,
   "metadata": {},
   "outputs": [],
   "source": [
    "Indiana_Pacers_shot_data = shot_data.loc[shot_data['TEAM_NAME'] == 'Indiana Pacers']"
   ]
  },
  {
   "cell_type": "code",
   "execution_count": 33,
   "metadata": {},
   "outputs": [],
   "source": [
    "Indiana_Pacers_shot_data.to_csv('/Users/jaycohen/Documents/NYCDSA/Capstone_Project/NBA_Shot_Project/new_data/Indiana_Pacers_shot_data.csv')"
   ]
  },
  {
   "cell_type": "code",
   "execution_count": 34,
   "metadata": {},
   "outputs": [],
   "source": [
    "LA_Clippers_shot_data = shot_data.loc[shot_data['TEAM_NAME'] == 'LA Clippers']"
   ]
  },
  {
   "cell_type": "code",
   "execution_count": 35,
   "metadata": {},
   "outputs": [],
   "source": [
    "LA_Clippers_shot_data.to_csv('/Users/jaycohen/Documents/NYCDSA/Capstone_Project/NBA_Shot_Project/new_data/LA_Clippers_shot_data.csv')"
   ]
  },
  {
   "cell_type": "code",
   "execution_count": 36,
   "metadata": {},
   "outputs": [],
   "source": [
    "Los_Angeles_Lakers_shot_data = shot_data.loc[shot_data['TEAM_NAME'] == 'Los Angeles Lakers']"
   ]
  },
  {
   "cell_type": "code",
   "execution_count": 37,
   "metadata": {},
   "outputs": [],
   "source": [
    "Los_Angeles_Lakers_shot_data.to_csv('/Users/jaycohen/Documents/NYCDSA/Capstone_Project/NBA_Shot_Project/new_data/Los_Angeles_Lakers_shot_data.csv')"
   ]
  },
  {
   "cell_type": "code",
   "execution_count": 38,
   "metadata": {},
   "outputs": [],
   "source": [
    "Memphis_Grizzlies_shot_data = shot_data.loc[shot_data['TEAM_NAME'] == 'Memphis Grizzlies']"
   ]
  },
  {
   "cell_type": "code",
   "execution_count": 39,
   "metadata": {},
   "outputs": [],
   "source": [
    "Memphis_Grizzlies_shot_data.to_csv('/Users/jaycohen/Documents/NYCDSA/Capstone_Project/NBA_Shot_Project/new_data/Memphis_Grizzlies_shot_data.csv')"
   ]
  },
  {
   "cell_type": "code",
   "execution_count": 40,
   "metadata": {},
   "outputs": [],
   "source": [
    "Miami_Heat_shot_data = shot_data.loc[shot_data['TEAM_NAME'] == 'Miami Heat']"
   ]
  },
  {
   "cell_type": "code",
   "execution_count": 41,
   "metadata": {},
   "outputs": [],
   "source": [
    "Miami_Heat_shot_data.to_csv('/Users/jaycohen/Documents/NYCDSA/Capstone_Project/NBA_Shot_Project/new_data/Miami_Heat_shot_data.csv')"
   ]
  },
  {
   "cell_type": "code",
   "execution_count": 42,
   "metadata": {},
   "outputs": [],
   "source": [
    "Milwaukee_Bucks_shot_data = shot_data.loc[shot_data['TEAM_NAME'] == 'Milwaukee Bucks']"
   ]
  },
  {
   "cell_type": "code",
   "execution_count": 43,
   "metadata": {},
   "outputs": [],
   "source": [
    "Milwaukee_Bucks_shot_data.to_csv('/Users/jaycohen/Documents/NYCDSA/Capstone_Project/NBA_Shot_Project/new_data/Milwaukee_Bucks_shot_data.csv')"
   ]
  },
  {
   "cell_type": "code",
   "execution_count": 44,
   "metadata": {},
   "outputs": [],
   "source": [
    "Minnesota_Timberwolves_shot_data = shot_data.loc[shot_data['TEAM_NAME'] == 'Minnesota Timberwolves']"
   ]
  },
  {
   "cell_type": "code",
   "execution_count": 45,
   "metadata": {},
   "outputs": [],
   "source": [
    "Minnesota_Timberwolves_shot_data.to_csv('/Users/jaycohen/Documents/NYCDSA/Capstone_Project/NBA_Shot_Project/new_data/Minnesota_Timberwolves_shot_data.csv')"
   ]
  },
  {
   "cell_type": "code",
   "execution_count": 46,
   "metadata": {},
   "outputs": [],
   "source": [
    "New_Orleans_Pelicans_shot_data = shot_data.loc[shot_data['TEAM_NAME'] == 'New Orleans Pelicans']"
   ]
  },
  {
   "cell_type": "code",
   "execution_count": 47,
   "metadata": {},
   "outputs": [],
   "source": [
    "New_Orleans_Pelicans_shot_data.to_csv('/Users/jaycohen/Documents/NYCDSA/Capstone_Project/NBA_Shot_Project/new_data/New_Orleans_Pelicans_shot_data.csv')"
   ]
  },
  {
   "cell_type": "code",
   "execution_count": 48,
   "metadata": {},
   "outputs": [],
   "source": [
    "New_York_Knicks_shot_data = shot_data.loc[shot_data['TEAM_NAME'] == 'New York Knicks']"
   ]
  },
  {
   "cell_type": "code",
   "execution_count": 49,
   "metadata": {},
   "outputs": [],
   "source": [
    "New_York_Knicks_shot_data.to_csv('/Users/jaycohen/Documents/NYCDSA/Capstone_Project/NBA_Shot_Project/new_data/New_York_Knicks_shot_data.csv')"
   ]
  },
  {
   "cell_type": "code",
   "execution_count": 50,
   "metadata": {},
   "outputs": [],
   "source": [
    "Oklahoma_City_Thunder_shot_data = shot_data.loc[shot_data['TEAM_NAME'] == 'Oklahoma City Thunder']"
   ]
  },
  {
   "cell_type": "code",
   "execution_count": 51,
   "metadata": {},
   "outputs": [],
   "source": [
    "Oklahoma_City_Thunder_shot_data.to_csv('/Users/jaycohen/Documents/NYCDSA/Capstone_Project/NBA_Shot_Project/new_data/Oklahoma_City_Thunder_shot_data.csv')"
   ]
  },
  {
   "cell_type": "code",
   "execution_count": 52,
   "metadata": {},
   "outputs": [],
   "source": [
    "Orlando_Magic_shot_data = shot_data.loc[shot_data['TEAM_NAME'] == 'Orlando Magic']"
   ]
  },
  {
   "cell_type": "code",
   "execution_count": 53,
   "metadata": {},
   "outputs": [],
   "source": [
    "Orlando_Magic_shot_data.to_csv('/Users/jaycohen/Documents/NYCDSA/Capstone_Project/NBA_Shot_Project/new_data/Orlando_Magic_shot_data.csv')"
   ]
  },
  {
   "cell_type": "code",
   "execution_count": 54,
   "metadata": {},
   "outputs": [],
   "source": [
    "Philadelphia_76ers_shot_data = shot_data.loc[shot_data['TEAM_NAME'] == 'Philadelphia_76ers']"
   ]
  },
  {
   "cell_type": "code",
   "execution_count": 55,
   "metadata": {},
   "outputs": [],
   "source": [
    "Philadelphia_76ers_shot_data.to_csv('/Users/jaycohen/Documents/NYCDSA/Capstone_Project/NBA_Shot_Project/new_data/Philadelphia_76ers_shot_data.csv')"
   ]
  },
  {
   "cell_type": "code",
   "execution_count": 56,
   "metadata": {},
   "outputs": [],
   "source": [
    "Phoenix_Suns_shot_data = shot_data.loc[shot_data['TEAM_NAME'] == 'Phoenix Suns']"
   ]
  },
  {
   "cell_type": "code",
   "execution_count": 57,
   "metadata": {},
   "outputs": [],
   "source": [
    "Phoenix_Suns_shot_data.to_csv('/Users/jaycohen/Documents/NYCDSA/Capstone_Project/NBA_Shot_Project/new_data/Phoenix_Suns_shot_data.csv')"
   ]
  },
  {
   "cell_type": "code",
   "execution_count": 58,
   "metadata": {},
   "outputs": [],
   "source": [
    "Portland_Trail_Blazers_shot_data = shot_data.loc[shot_data['TEAM_NAME'] == 'Portland Trail Blazers']"
   ]
  },
  {
   "cell_type": "code",
   "execution_count": 59,
   "metadata": {},
   "outputs": [],
   "source": [
    "Portland_Trail_Blazers_shot_data.to_csv('/Users/jaycohen/Documents/NYCDSA/Capstone_Project/NBA_Shot_Project/new_data/Portland_Trail_Blazers_shot_data.csv')"
   ]
  },
  {
   "cell_type": "code",
   "execution_count": 60,
   "metadata": {},
   "outputs": [],
   "source": [
    "Sacramento_Kings_shot_data = shot_data.loc[shot_data['TEAM_NAME'] == 'Sacramento Kings']"
   ]
  },
  {
   "cell_type": "code",
   "execution_count": 61,
   "metadata": {},
   "outputs": [],
   "source": [
    "Sacramento_Kings_shot_data.to_csv('/Users/jaycohen/Documents/NYCDSA/Capstone_Project/NBA_Shot_Project/new_data/Sacramento_Kings_shot_data.csv')"
   ]
  },
  {
   "cell_type": "code",
   "execution_count": 62,
   "metadata": {},
   "outputs": [],
   "source": [
    "San_Antonio_Spurs_shot_data = shot_data.loc[shot_data['TEAM_NAME'] == 'San Antonio Spurs']"
   ]
  },
  {
   "cell_type": "code",
   "execution_count": 63,
   "metadata": {},
   "outputs": [],
   "source": [
    "San_Antonio_Spurs_shot_data.to_csv('/Users/jaycohen/Documents/NYCDSA/Capstone_Project/NBA_Shot_Project/new_data/San_Antonio_Spurs_shot_data.csv')"
   ]
  },
  {
   "cell_type": "code",
   "execution_count": 64,
   "metadata": {},
   "outputs": [],
   "source": [
    "Toronto_Raptors_shot_data = shot_data.loc[shot_data['TEAM_NAME'] == 'Toronto Raptors']"
   ]
  },
  {
   "cell_type": "code",
   "execution_count": 65,
   "metadata": {},
   "outputs": [],
   "source": [
    "Toronto_Raptors_shot_data.to_csv('/Users/jaycohen/Documents/NYCDSA/Capstone_Project/NBA_Shot_Project/new_data/Toronto_Raptors_shot_data.csv')"
   ]
  },
  {
   "cell_type": "code",
   "execution_count": 66,
   "metadata": {},
   "outputs": [],
   "source": [
    "Utah_Jazz_shot_data = shot_data.loc[shot_data['TEAM_NAME'] == 'Utah Jazz']"
   ]
  },
  {
   "cell_type": "code",
   "execution_count": 67,
   "metadata": {},
   "outputs": [],
   "source": [
    "Utah_Jazz_shot_data.to_csv('/Users/jaycohen/Documents/NYCDSA/Capstone_Project/NBA_Shot_Project/new_data/Utah_Jazz_shot_data.csv')"
   ]
  },
  {
   "cell_type": "code",
   "execution_count": 68,
   "metadata": {},
   "outputs": [],
   "source": [
    "Washington_Wizards_shot_data = shot_data.loc[shot_data['TEAM_NAME'] == 'Washington Wizards']"
   ]
  },
  {
   "cell_type": "code",
   "execution_count": 69,
   "metadata": {},
   "outputs": [],
   "source": [
    "Washington_Wizards_shot_data.to_csv('/Users/jaycohen/Documents/NYCDSA/Capstone_Project/NBA_Shot_Project/new_data/Washington_Wizards_shot_data.csv')"
   ]
  },
  {
   "cell_type": "code",
   "execution_count": 4,
   "metadata": {},
   "outputs": [],
   "source": [
    "Atlanta_Hawks_shot_data = pd.read_csv('/Users/jaycohen/Documents/NYCDSA/Capstone_Project/NBA_Shot_Chart_Project/data/Atlanta_Hawks_shot_data.csv')"
   ]
  },
  {
   "cell_type": "code",
   "execution_count": 7,
   "metadata": {},
   "outputs": [],
   "source": [
    "Atlanta_Hawks_shot_data = Atlanta_Hawks_shot_data.loc[Atlanta_Hawks_shot_data['SHOT_ZONE_BASIC'] != 'Backcourt']"
   ]
  },
  {
   "cell_type": "code",
   "execution_count": 10,
   "metadata": {},
   "outputs": [],
   "source": [
    "Atlanta_Hawks_shot_data.to_csv('/Users/jaycohen/Documents/NYCDSA/Capstone_Project/NBA_Shot_Chart_Project/data/Atlanta_Hawks_shots_heaves_removed.csv', index=False)"
   ]
  },
  {
   "cell_type": "code",
   "execution_count": 11,
   "metadata": {},
   "outputs": [],
   "source": [
    "Brooklyn_Nets_shots = pd.read_csv('/Users/jaycohen/Documents/NYCDSA/Capstone_Project/NBA_Shot_Chart_Project/data/Brooklyn_Nets_shot_data.csv')"
   ]
  },
  {
   "cell_type": "code",
   "execution_count": 12,
   "metadata": {},
   "outputs": [],
   "source": [
    "Brooklyn_Nets_shots_heaves_removed = Brooklyn_Nets_shots.loc[Brooklyn_Nets_shots['SHOT_ZONE_BASIC'] != 'Backcourt']"
   ]
  },
  {
   "cell_type": "code",
   "execution_count": 13,
   "metadata": {},
   "outputs": [],
   "source": [
    "Brooklyn_Nets_shots_heaves_removed.to_csv('/Users/jaycohen/Documents/NYCDSA/Capstone_Project/NBA_Shot_Chart_Project/data/Brooklyn_Nets_shots_heaves_removed.csv', index=False)"
   ]
  },
  {
   "cell_type": "code",
   "execution_count": 14,
   "metadata": {},
   "outputs": [],
   "source": [
    "Boston_Celtics_shots = pd.read_csv('/Users/jaycohen/Documents/NYCDSA/Capstone_Project/NBA_Shot_Chart_Project/data/Boston_Celtics_shot_data.csv')"
   ]
  },
  {
   "cell_type": "code",
   "execution_count": 15,
   "metadata": {},
   "outputs": [],
   "source": [
    "Boston_Celtics_shots_heaves_removed = Boston_Celtics_shots.loc[Boston_Celtics_shots['SHOT_ZONE_BASIC'] != 'Backcourt']"
   ]
  },
  {
   "cell_type": "code",
   "execution_count": 16,
   "metadata": {},
   "outputs": [],
   "source": [
    "Boston_Celtics_shots_heaves_removed.to_csv('/Users/jaycohen/Documents/NYCDSA/Capstone_Project/NBA_Shot_Chart_Project/data/Boston_Celtics_shots_heaves_removed.csv', index=False)"
   ]
  },
  {
   "cell_type": "code",
   "execution_count": 17,
   "metadata": {},
   "outputs": [],
   "source": [
    "Charlotte_Hornets_shots = pd.read_csv('/Users/jaycohen/Documents/NYCDSA/Capstone_Project/NBA_Shot_Chart_Project/data/Charlotte_Hornets_shot_data.csv')"
   ]
  },
  {
   "cell_type": "code",
   "execution_count": 18,
   "metadata": {},
   "outputs": [],
   "source": [
    "Charlotte_Hornets_shots_heaves_removed = Charlotte_Hornets_shots.loc[Charlotte_Hornets_shots['SHOT_ZONE_BASIC'] != 'Backcourt']"
   ]
  },
  {
   "cell_type": "code",
   "execution_count": 19,
   "metadata": {},
   "outputs": [],
   "source": [
    "Charlotte_Hornets_shots_heaves_removed.to_csv('/Users/jaycohen/Documents/NYCDSA/Capstone_Project/NBA_Shot_Chart_Project/data/Charlotte_Hornets_shots_heaves_removed.csv', index=False)"
   ]
  },
  {
   "cell_type": "code",
   "execution_count": 20,
   "metadata": {},
   "outputs": [],
   "source": [
    "Chicago_Bulls_shots = pd.read_csv('/Users/jaycohen/Documents/NYCDSA/Capstone_Project/NBA_Shot_Chart_Project/data/Chicago_Bulls_shot_data.csv')"
   ]
  },
  {
   "cell_type": "code",
   "execution_count": 21,
   "metadata": {},
   "outputs": [],
   "source": [
    "Chicago_Bulls_shots_heaves_removed = Chicago_Bulls_shots.loc[Chicago_Bulls_shots['SHOT_ZONE_BASIC'] != 'Backcourt']"
   ]
  },
  {
   "cell_type": "code",
   "execution_count": 22,
   "metadata": {},
   "outputs": [],
   "source": [
    "Chicago_Bulls_shots_heaves_removed.to_csv('/Users/jaycohen/Documents/NYCDSA/Capstone_Project/NBA_Shot_Chart_Project/data/Chicago_Bulls_shots_heaves_removed.csv', index=False)"
   ]
  },
  {
   "cell_type": "code",
   "execution_count": 23,
   "metadata": {},
   "outputs": [],
   "source": [
    "Cleveland_Cavaliers_shots = pd.read_csv('/Users/jaycohen/Documents/NYCDSA/Capstone_Project/NBA_Shot_Chart_Project/data/Cleveland_Cavaliers_shot_data.csv')"
   ]
  },
  {
   "cell_type": "code",
   "execution_count": 24,
   "metadata": {},
   "outputs": [],
   "source": [
    "Cleveland_Cavaliers_shots_heaves_removed = Cleveland_Cavaliers_shots.loc[Cleveland_Cavaliers_shots['SHOT_ZONE_BASIC'] != 'Backcourt']"
   ]
  },
  {
   "cell_type": "code",
   "execution_count": 25,
   "metadata": {},
   "outputs": [],
   "source": [
    "Cleveland_Cavaliers_shots_heaves_removed.to_csv('/Users/jaycohen/Documents/NYCDSA/Capstone_Project/NBA_Shot_Chart_Project/data/Cleveland_Cavaliers_shots_heaves_removed.csv', index=False)"
   ]
  },
  {
   "cell_type": "code",
   "execution_count": 26,
   "metadata": {},
   "outputs": [],
   "source": [
    "Dallas_Mavericks_shots = pd.read_csv('/Users/jaycohen/Documents/NYCDSA/Capstone_Project/NBA_Shot_Chart_Project/data/Dallas_Mavericks_shot_data.csv')"
   ]
  },
  {
   "cell_type": "code",
   "execution_count": 27,
   "metadata": {},
   "outputs": [],
   "source": [
    "Dallas_Mavericks_shots_heaves_removed = Dallas_Mavericks_shots.loc[Dallas_Mavericks_shots['SHOT_ZONE_BASIC'] != 'Backcourt']"
   ]
  },
  {
   "cell_type": "code",
   "execution_count": 28,
   "metadata": {},
   "outputs": [],
   "source": [
    "Dallas_Mavericks_shots_heaves_removed.to_csv('/Users/jaycohen/Documents/NYCDSA/Capstone_Project/NBA_Shot_Chart_Project/data/Dallas_Mavericks_shots_heaves_removed.csv', index=False)"
   ]
  },
  {
   "cell_type": "code",
   "execution_count": 29,
   "metadata": {},
   "outputs": [],
   "source": [
    "Denver_Nuggets_shots = pd.read_csv('/Users/jaycohen/Documents/NYCDSA/Capstone_Project/NBA_Shot_Chart_Project/data/Denver_Nuggets_shot_data.csv')"
   ]
  },
  {
   "cell_type": "code",
   "execution_count": 30,
   "metadata": {},
   "outputs": [],
   "source": [
    "Denver_Nuggets_shots_heaves_removed = Denver_Nuggets_shots.loc[Denver_Nuggets_shots['SHOT_ZONE_BASIC'] != 'Backcourt']"
   ]
  },
  {
   "cell_type": "code",
   "execution_count": 31,
   "metadata": {},
   "outputs": [],
   "source": [
    "Denver_Nuggets_shots_heaves_removed.to_csv('/Users/jaycohen/Documents/NYCDSA/Capstone_Project/NBA_Shot_Chart_Project/data/Denver_Nuggets_shots_heaves_removed.csv', index=False)"
   ]
  },
  {
   "cell_type": "code",
   "execution_count": 32,
   "metadata": {},
   "outputs": [],
   "source": [
    "Detroit_Pistons_shots = pd.read_csv('/Users/jaycohen/Documents/NYCDSA/Capstone_Project/NBA_Shot_Chart_Project/data/Detroit_Pistons_shot_data.csv')"
   ]
  },
  {
   "cell_type": "code",
   "execution_count": 33,
   "metadata": {},
   "outputs": [],
   "source": [
    "Detroit_Pistons_shots_heaves_removed = Detroit_Pistons_shots.loc[Detroit_Pistons_shots['SHOT_ZONE_BASIC'] != 'Backcourt']"
   ]
  },
  {
   "cell_type": "code",
   "execution_count": 34,
   "metadata": {},
   "outputs": [],
   "source": [
    "Detroit_Pistons_shots_heaves_removed.to_csv('/Users/jaycohen/Documents/NYCDSA/Capstone_Project/NBA_Shot_Chart_Project/data/Detroit_Pistons_shots_heaves_removed.csv', index=False)"
   ]
  },
  {
   "cell_type": "code",
   "execution_count": 35,
   "metadata": {},
   "outputs": [],
   "source": [
    "Golden_State_Warriors_shots = pd.read_csv('/Users/jaycohen/Documents/NYCDSA/Capstone_Project/NBA_Shot_Chart_Project/data/Golden_State_Warriors_shot_data.csv')"
   ]
  },
  {
   "cell_type": "code",
   "execution_count": 36,
   "metadata": {},
   "outputs": [],
   "source": [
    "Golden_State_Warriors_shots_heaves_removed = Golden_State_Warriors_shots.loc[Golden_State_Warriors_shots['SHOT_ZONE_BASIC'] != 'Backcourt']"
   ]
  },
  {
   "cell_type": "code",
   "execution_count": 37,
   "metadata": {},
   "outputs": [],
   "source": [
    "Golden_State_Warriors_shots_heaves_removed.to_csv('/Users/jaycohen/Documents/NYCDSA/Capstone_Project/NBA_Shot_Chart_Project/data/Golden_State_Warriors_shots_heaves_removed.csv', index=False)"
   ]
  },
  {
   "cell_type": "code",
   "execution_count": 38,
   "metadata": {},
   "outputs": [],
   "source": [
    "Houston_Rockets_shots = pd.read_csv('/Users/jaycohen/Documents/NYCDSA/Capstone_Project/NBA_Shot_Chart_Project/data/Houston_Rockets_shot_data.csv')"
   ]
  },
  {
   "cell_type": "code",
   "execution_count": 39,
   "metadata": {},
   "outputs": [],
   "source": [
    "Houston_Rockets_shots_heaves_removed = Houston_Rockets_shots.loc[Houston_Rockets_shots['SHOT_ZONE_BASIC'] != 'Backcourt']"
   ]
  },
  {
   "cell_type": "code",
   "execution_count": 40,
   "metadata": {},
   "outputs": [],
   "source": [
    "Houston_Rockets_shots_heaves_removed.to_csv('/Users/jaycohen/Documents/NYCDSA/Capstone_Project/NBA_Shot_Chart_Project/data/Houston_Rockets_shots_heaves_removed.csv', index=False)"
   ]
  },
  {
   "cell_type": "code",
   "execution_count": 41,
   "metadata": {},
   "outputs": [],
   "source": [
    "Indiana_Pacers_shots = pd.read_csv('/Users/jaycohen/Documents/NYCDSA/Capstone_Project/NBA_Shot_Chart_Project/data/Indiana_Pacers_shot_data.csv')"
   ]
  },
  {
   "cell_type": "code",
   "execution_count": 42,
   "metadata": {},
   "outputs": [],
   "source": [
    "Indiana_Pacers_shots_heaves_removed = Indiana_Pacers_shots.loc[Indiana_Pacers_shots['SHOT_ZONE_BASIC'] != 'Backcourt']"
   ]
  },
  {
   "cell_type": "code",
   "execution_count": 43,
   "metadata": {},
   "outputs": [],
   "source": [
    "Indiana_Pacers_shots_heaves_removed.to_csv('/Users/jaycohen/Documents/NYCDSA/Capstone_Project/NBA_Shot_Chart_Project/data/Indiana_Pacers_shots_heaves_removed.csv', index=False)"
   ]
  },
  {
   "cell_type": "code",
   "execution_count": 44,
   "metadata": {},
   "outputs": [],
   "source": [
    "LA_Clippers_shots = pd.read_csv('/Users/jaycohen/Documents/NYCDSA/Capstone_Project/NBA_Shot_Chart_Project/data/LA_Clippers_shot_data.csv')"
   ]
  },
  {
   "cell_type": "code",
   "execution_count": 45,
   "metadata": {},
   "outputs": [],
   "source": [
    "LA_Clippers_shots_heaves_removed = LA_Clippers_shots.loc[LA_Clippers_shots['SHOT_ZONE_BASIC'] != 'Backcourt']"
   ]
  },
  {
   "cell_type": "code",
   "execution_count": 46,
   "metadata": {},
   "outputs": [],
   "source": [
    "LA_Clippers_shots_heaves_removed.to_csv('/Users/jaycohen/Documents/NYCDSA/Capstone_Project/NBA_Shot_Chart_Project/data/LA_Clippers_shots_heaves_removed.csv', index=False)"
   ]
  },
  {
   "cell_type": "code",
   "execution_count": 47,
   "metadata": {},
   "outputs": [],
   "source": [
    "Los_Angeles_Lakers_shots = pd.read_csv('/Users/jaycohen/Documents/NYCDSA/Capstone_Project/NBA_Shot_Chart_Project/data/Los_Angeles_Lakers_shot_data.csv')"
   ]
  },
  {
   "cell_type": "code",
   "execution_count": 48,
   "metadata": {},
   "outputs": [],
   "source": [
    "Los_Angeles_Lakers_shots_heaves_removed = Los_Angeles_Lakers_shots.loc[Los_Angeles_Lakers_shots['SHOT_ZONE_BASIC'] != 'Backcourt']"
   ]
  },
  {
   "cell_type": "code",
   "execution_count": 49,
   "metadata": {},
   "outputs": [],
   "source": [
    "Los_Angeles_Lakers_shots_heaves_removed.to_csv('/Users/jaycohen/Documents/NYCDSA/Capstone_Project/NBA_Shot_Chart_Project/data/Los_Angeles_Lakers_shots_heaves_removed.csv', index=False)"
   ]
  },
  {
   "cell_type": "code",
   "execution_count": 50,
   "metadata": {},
   "outputs": [],
   "source": [
    "Memphis_Grizzlies_shots = pd.read_csv('/Users/jaycohen/Documents/NYCDSA/Capstone_Project/NBA_Shot_Chart_Project/data/Memphis_Grizzlies_shot_data.csv')"
   ]
  },
  {
   "cell_type": "code",
   "execution_count": 51,
   "metadata": {},
   "outputs": [],
   "source": [
    "Memphis_Grizzlies_shots_heaves_removed = Memphis_Grizzlies_shots.loc[Memphis_Grizzlies_shots['SHOT_ZONE_BASIC'] != 'Backcourt']"
   ]
  },
  {
   "cell_type": "code",
   "execution_count": 52,
   "metadata": {},
   "outputs": [],
   "source": [
    "Memphis_Grizzlies_shots_heaves_removed.to_csv('/Users/jaycohen/Documents/NYCDSA/Capstone_Project/NBA_Shot_Chart_Project/data/Memphis_Grizzlies_shots_heaves_removed.csv', index=False)"
   ]
  },
  {
   "cell_type": "code",
   "execution_count": 53,
   "metadata": {},
   "outputs": [],
   "source": [
    "Miami_Heat_shots = pd.read_csv('/Users/jaycohen/Documents/NYCDSA/Capstone_Project/NBA_Shot_Chart_Project/data/Miami_Heat_shot_data.csv')"
   ]
  },
  {
   "cell_type": "code",
   "execution_count": 54,
   "metadata": {},
   "outputs": [],
   "source": [
    "Miami_Heat_shots_heaves_removed = Miami_Heat_shots.loc[Miami_Heat_shots['SHOT_ZONE_BASIC'] != 'Backcourt']"
   ]
  },
  {
   "cell_type": "code",
   "execution_count": 55,
   "metadata": {},
   "outputs": [],
   "source": [
    "Miami_Heat_shots_heaves_removed.to_csv('/Users/jaycohen/Documents/NYCDSA/Capstone_Project/NBA_Shot_Chart_Project/data/Miami_Heat_shots_heaves_removed.csv', index=False)"
   ]
  },
  {
   "cell_type": "code",
   "execution_count": 56,
   "metadata": {},
   "outputs": [],
   "source": [
    "Milwaukee_Bucks_shots = pd.read_csv('/Users/jaycohen/Documents/NYCDSA/Capstone_Project/NBA_Shot_Chart_Project/data/Milwaukee_Bucks_shot_data.csv')"
   ]
  },
  {
   "cell_type": "code",
   "execution_count": 57,
   "metadata": {},
   "outputs": [],
   "source": [
    "Milwaukee_Bucks_shots_heaves_removed = Milwaukee_Bucks_shots.loc[Milwaukee_Bucks_shots['SHOT_ZONE_BASIC'] != 'Backcourt']"
   ]
  },
  {
   "cell_type": "code",
   "execution_count": 58,
   "metadata": {},
   "outputs": [],
   "source": [
    "Milwaukee_Bucks_shots_heaves_removed.to_csv('/Users/jaycohen/Documents/NYCDSA/Capstone_Project/NBA_Shot_Chart_Project/data/Milwaukee_Bucks_shots_heaves_removed.csv', index=False)"
   ]
  },
  {
   "cell_type": "code",
   "execution_count": 59,
   "metadata": {},
   "outputs": [],
   "source": [
    "Minnesota_Timberwolves_shots = pd.read_csv('/Users/jaycohen/Documents/NYCDSA/Capstone_Project/NBA_Shot_Chart_Project/data/Minnesota_Timberwolves_shot_data.csv')"
   ]
  },
  {
   "cell_type": "code",
   "execution_count": 60,
   "metadata": {},
   "outputs": [],
   "source": [
    "Minnesota_Timberwolves_shots_heaves_removed = Minnesota_Timberwolves_shots.loc[Minnesota_Timberwolves_shots['SHOT_ZONE_BASIC'] != 'Backcourt']"
   ]
  },
  {
   "cell_type": "code",
   "execution_count": 61,
   "metadata": {},
   "outputs": [],
   "source": [
    "Minnesota_Timberwolves_shots_heaves_removed.to_csv('/Users/jaycohen/Documents/NYCDSA/Capstone_Project/NBA_Shot_Chart_Project/data/Minnesota_Timberwolves_shots_heaves_removed.csv', index=False)"
   ]
  },
  {
   "cell_type": "code",
   "execution_count": 62,
   "metadata": {},
   "outputs": [],
   "source": [
    "New_Orleans_Pelicans_shots = pd.read_csv('/Users/jaycohen/Documents/NYCDSA/Capstone_Project/NBA_Shot_Chart_Project/data/New_Orleans_Pelicans_shot_data.csv')"
   ]
  },
  {
   "cell_type": "code",
   "execution_count": 63,
   "metadata": {},
   "outputs": [],
   "source": [
    "New_Orleans_Pelicans_shots_heaves_removed = New_Orleans_Pelicans_shots.loc[New_Orleans_Pelicans_shots['SHOT_ZONE_BASIC'] != 'Backcourt']"
   ]
  },
  {
   "cell_type": "code",
   "execution_count": 64,
   "metadata": {},
   "outputs": [],
   "source": [
    "New_Orleans_Pelicans_shots_heaves_removed.to_csv('/Users/jaycohen/Documents/NYCDSA/Capstone_Project/NBA_Shot_Chart_Project/data/New_Orleans_Pelicans_shots_heaves_removed.csv', index=False)"
   ]
  },
  {
   "cell_type": "code",
   "execution_count": 65,
   "metadata": {},
   "outputs": [],
   "source": [
    "New_York_Knicks_shots = pd.read_csv('/Users/jaycohen/Documents/NYCDSA/Capstone_Project/NBA_Shot_Chart_Project/data/New_York_Knicks_shot_data.csv')"
   ]
  },
  {
   "cell_type": "code",
   "execution_count": 66,
   "metadata": {},
   "outputs": [],
   "source": [
    "New_York_Knicks_shots_heaves_removed = New_York_Knicks_shots.loc[New_York_Knicks_shots['SHOT_ZONE_BASIC'] != 'Backcourt']"
   ]
  },
  {
   "cell_type": "code",
   "execution_count": 67,
   "metadata": {},
   "outputs": [],
   "source": [
    "New_York_Knicks_shots_heaves_removed.to_csv('/Users/jaycohen/Documents/NYCDSA/Capstone_Project/NBA_Shot_Chart_Project/data/New_York_Knicks_shots_heaves_removed.csv', index=False)"
   ]
  },
  {
   "cell_type": "code",
   "execution_count": 68,
   "metadata": {},
   "outputs": [],
   "source": [
    "Oklahoma_City_Thunder_shots = pd.read_csv('/Users/jaycohen/Documents/NYCDSA/Capstone_Project/NBA_Shot_Chart_Project/data/Oklahoma_City_Thunder_shot_data.csv')"
   ]
  },
  {
   "cell_type": "code",
   "execution_count": 69,
   "metadata": {},
   "outputs": [],
   "source": [
    "Oklahoma_City_Thunder_shots_heaves_removed = Oklahoma_City_Thunder_shots.loc[Oklahoma_City_Thunder_shots['SHOT_ZONE_BASIC'] != 'Backcourt']"
   ]
  },
  {
   "cell_type": "code",
   "execution_count": 70,
   "metadata": {},
   "outputs": [],
   "source": [
    "Oklahoma_City_Thunder_shots_heaves_removed.to_csv('/Users/jaycohen/Documents/NYCDSA/Capstone_Project/NBA_Shot_Chart_Project/data/Oklahoma_City_Thunder_shots_heaves_removed.csv', index=False)"
   ]
  },
  {
   "cell_type": "code",
   "execution_count": 71,
   "metadata": {},
   "outputs": [],
   "source": [
    "Orlando_Magic_shots = pd.read_csv('/Users/jaycohen/Documents/NYCDSA/Capstone_Project/NBA_Shot_Chart_Project/data/Orlando_Magic_shot_data.csv')"
   ]
  },
  {
   "cell_type": "code",
   "execution_count": 72,
   "metadata": {},
   "outputs": [],
   "source": [
    "Orlando_Magic_shots_heaves_removed = Orlando_Magic_shots.loc[Orlando_Magic_shots['SHOT_ZONE_BASIC'] != 'Backcourt']"
   ]
  },
  {
   "cell_type": "code",
   "execution_count": 73,
   "metadata": {},
   "outputs": [],
   "source": [
    "Orlando_Magic_shots_heaves_removed.to_csv('/Users/jaycohen/Documents/NYCDSA/Capstone_Project/NBA_Shot_Chart_Project/data/Orlando_Magic_shots_heaves_removed.csv', index=False)"
   ]
  },
  {
   "cell_type": "code",
   "execution_count": 74,
   "metadata": {},
   "outputs": [],
   "source": [
    "Philadelphia_76ers_shots = pd.read_csv('/Users/jaycohen/Documents/NYCDSA/Capstone_Project/NBA_Shot_Chart_Project/data/Philadelphia_76ers_shot_data.csv')"
   ]
  },
  {
   "cell_type": "code",
   "execution_count": 75,
   "metadata": {},
   "outputs": [],
   "source": [
    "Philadelphia_76ers_shots_heaves_removed = Philadelphia_76ers_shots.loc[Philadelphia_76ers_shots['SHOT_ZONE_BASIC'] != 'Backcourt']"
   ]
  },
  {
   "cell_type": "code",
   "execution_count": 76,
   "metadata": {},
   "outputs": [],
   "source": [
    "Philadelphia_76ers_shots_heaves_removed.to_csv('/Users/jaycohen/Documents/NYCDSA/Capstone_Project/NBA_Shot_Chart_Project/data/Philadelphia_76ers_shots_heaves_removed.csv', index=False)"
   ]
  },
  {
   "cell_type": "code",
   "execution_count": 77,
   "metadata": {},
   "outputs": [],
   "source": [
    "Phoenix_Suns_shots = pd.read_csv('/Users/jaycohen/Documents/NYCDSA/Capstone_Project/NBA_Shot_Chart_Project/data/Phoenix_Suns_shot_data.csv')"
   ]
  },
  {
   "cell_type": "code",
   "execution_count": 78,
   "metadata": {},
   "outputs": [],
   "source": [
    "Phoenix_Suns_shots_heaves_removed = Phoenix_Suns_shots.loc[Phoenix_Suns_shots['SHOT_ZONE_BASIC'] != 'Backcourt']"
   ]
  },
  {
   "cell_type": "code",
   "execution_count": 79,
   "metadata": {},
   "outputs": [],
   "source": [
    "Phoenix_Suns_shots_heaves_removed.to_csv('/Users/jaycohen/Documents/NYCDSA/Capstone_Project/NBA_Shot_Chart_Project/data/Phoenix_Suns_shots_heaves_removed.csv', index=False)"
   ]
  },
  {
   "cell_type": "code",
   "execution_count": 80,
   "metadata": {},
   "outputs": [],
   "source": [
    "Portland_Trail_Blazers_shots = pd.read_csv('/Users/jaycohen/Documents/NYCDSA/Capstone_Project/NBA_Shot_Chart_Project/data/Portland_Trail_Blazers_shot_data.csv')"
   ]
  },
  {
   "cell_type": "code",
   "execution_count": 81,
   "metadata": {},
   "outputs": [],
   "source": [
    "Portland_Trail_Blazers_shots_heaves_removed = Portland_Trail_Blazers_shots.loc[Portland_Trail_Blazers_shots['SHOT_ZONE_BASIC'] != 'Backcourt']"
   ]
  },
  {
   "cell_type": "code",
   "execution_count": 82,
   "metadata": {},
   "outputs": [],
   "source": [
    "Portland_Trail_Blazers_shots_heaves_removed.to_csv('/Users/jaycohen/Documents/NYCDSA/Capstone_Project/NBA_Shot_Chart_Project/data/Portland_Trail_Blazers_shots_heaves_removed.csv', index=False)"
   ]
  },
  {
   "cell_type": "code",
   "execution_count": 83,
   "metadata": {},
   "outputs": [],
   "source": [
    "Sacramento_Kings_shots = pd.read_csv('/Users/jaycohen/Documents/NYCDSA/Capstone_Project/NBA_Shot_Chart_Project/data/Sacramento_Kings_shot_data.csv')"
   ]
  },
  {
   "cell_type": "code",
   "execution_count": 84,
   "metadata": {},
   "outputs": [],
   "source": [
    "Sacramento_Kings_shots_heaves_removed = Sacramento_Kings_shots.loc[Sacramento_Kings_shots['SHOT_ZONE_BASIC'] != 'Backcourt']"
   ]
  },
  {
   "cell_type": "code",
   "execution_count": 85,
   "metadata": {},
   "outputs": [],
   "source": [
    "Sacramento_Kings_shots_heaves_removed.to_csv('/Users/jaycohen/Documents/NYCDSA/Capstone_Project/NBA_Shot_Chart_Project/data/Sacramento_Kings_shots_heaves_removed.csv', index=False)"
   ]
  },
  {
   "cell_type": "code",
   "execution_count": 86,
   "metadata": {},
   "outputs": [],
   "source": [
    "San_Antonio_Spurs_shots = pd.read_csv('/Users/jaycohen/Documents/NYCDSA/Capstone_Project/NBA_Shot_Chart_Project/data/San_Antonio_Spurs_shot_data.csv')"
   ]
  },
  {
   "cell_type": "code",
   "execution_count": 87,
   "metadata": {},
   "outputs": [],
   "source": [
    "San_Antonio_Spurs_shots_heaves_removed = San_Antonio_Spurs_shots.loc[San_Antonio_Spurs_shots['SHOT_ZONE_BASIC'] != 'Backcourt']"
   ]
  },
  {
   "cell_type": "code",
   "execution_count": 88,
   "metadata": {},
   "outputs": [],
   "source": [
    "San_Antonio_Spurs_shots_heaves_removed.to_csv('/Users/jaycohen/Documents/NYCDSA/Capstone_Project/NBA_Shot_Chart_Project/data/San_Antonio_Spurs_shots_heaves_removed.csv', index=False)"
   ]
  },
  {
   "cell_type": "code",
   "execution_count": 89,
   "metadata": {},
   "outputs": [],
   "source": [
    "Toronto_Raptors_shots = pd.read_csv('/Users/jaycohen/Documents/NYCDSA/Capstone_Project/NBA_Shot_Chart_Project/data/Toronto_Raptors_shot_data.csv')"
   ]
  },
  {
   "cell_type": "code",
   "execution_count": 90,
   "metadata": {},
   "outputs": [],
   "source": [
    "Toronto_Raptors_shots_heaves_removed = Toronto_Raptors_shots.loc[Toronto_Raptors_shots['SHOT_ZONE_BASIC'] != 'Backcourt']"
   ]
  },
  {
   "cell_type": "code",
   "execution_count": 91,
   "metadata": {},
   "outputs": [],
   "source": [
    "Toronto_Raptors_shots_heaves_removed.to_csv('/Users/jaycohen/Documents/NYCDSA/Capstone_Project/NBA_Shot_Chart_Project/data/Toronto_Raptors_shots_heaves_removed.csv', index=False)"
   ]
  },
  {
   "cell_type": "code",
   "execution_count": 92,
   "metadata": {},
   "outputs": [],
   "source": [
    "Utah_Jazz_shots = pd.read_csv('/Users/jaycohen/Documents/NYCDSA/Capstone_Project/NBA_Shot_Chart_Project/data/Utah_Jazz_shot_data.csv')"
   ]
  },
  {
   "cell_type": "code",
   "execution_count": 93,
   "metadata": {},
   "outputs": [],
   "source": [
    "Utah_Jazz_shots_heaves_removed = Utah_Jazz_shots.loc[Utah_Jazz_shots['SHOT_ZONE_BASIC'] != 'Backcourt']"
   ]
  },
  {
   "cell_type": "code",
   "execution_count": 94,
   "metadata": {},
   "outputs": [],
   "source": [
    "Utah_Jazz_shots_heaves_removed.to_csv('/Users/jaycohen/Documents/NYCDSA/Capstone_Project/NBA_Shot_Chart_Project/data/Utah_Jazz_shots_heaves_removed.csv', index=False)"
   ]
  },
  {
   "cell_type": "code",
   "execution_count": 95,
   "metadata": {},
   "outputs": [],
   "source": [
    "Washington_Wizards_shots = pd.read_csv('/Users/jaycohen/Documents/NYCDSA/Capstone_Project/NBA_Shot_Chart_Project/data/Washington_Wizards_shot_data.csv')"
   ]
  },
  {
   "cell_type": "code",
   "execution_count": 96,
   "metadata": {},
   "outputs": [],
   "source": [
    "Washington_Wizards_shots_heaves_removed = Washington_Wizards_shots.loc[Washington_Wizards_shots['SHOT_ZONE_BASIC'] != 'Backcourt']"
   ]
  },
  {
   "cell_type": "code",
   "execution_count": 97,
   "metadata": {},
   "outputs": [],
   "source": [
    "Washington_Wizards_shots_heaves_removed.to_csv('/Users/jaycohen/Documents/NYCDSA/Capstone_Project/NBA_Shot_Chart_Project/data/Washington_Wizards_shots_heaves_removed.csv', index=False)"
   ]
  },
  {
   "cell_type": "code",
   "execution_count": 2,
   "metadata": {},
   "outputs": [],
   "source": [
    "Atlanta_Hawks_shots_heaves_removes = pd.read_csv('/Users/jaycohen/Documents/NYCDSA/Capstone_Project/NBA_Shot_Chart_Project/data/Atlanta_Hawks_shots_heaves_removed.csv')"
   ]
  },
  {
   "cell_type": "code",
   "execution_count": 3,
   "metadata": {},
   "outputs": [
    {
     "data": {
      "text/plain": [
       "array(['Kent Bazemore', 'Dennis Schroder', 'Tim Hardaway Jr.',\n",
       "       'Thabo Sefolosha', 'Tiago Splitter', 'Shelvin Mack',\n",
       "       'Justin Holiday', 'Jeff Teague', 'Mike Scott', 'Edy Tavares',\n",
       "       'Kirk Hinrich', 'Kyle Korver', 'Al Horford', 'Mike Muscala',\n",
       "       'Kris Humphries', 'Lamar Patterson', 'Paul Millsap'], dtype=object)"
      ]
     },
     "execution_count": 3,
     "metadata": {},
     "output_type": "execute_result"
    }
   ],
   "source": [
    "UniqueNames = Atlanta_Hawks_shots_heaves_removes.PLAYER_NAME.unique()\n",
    "UniqueNames"
   ]
  },
  {
   "cell_type": "code",
   "execution_count": 4,
   "metadata": {},
   "outputs": [],
   "source": [
    "HawksDFDict = {elem : pd.DataFrame for elem in UniqueNames}\n",
    "\n",
    "for key in HawksDFDict.keys():\n",
    "    HawksDFDict[key] = Atlanta_Hawks_shots_heaves_removes[:][Atlanta_Hawks_shots_heaves_removes.PLAYER_NAME == key]"
   ]
  },
  {
   "cell_type": "code",
   "execution_count": 5,
   "metadata": {},
   "outputs": [
    {
     "data": {
      "text/html": [
       "<div>\n",
       "<style scoped>\n",
       "    .dataframe tbody tr th:only-of-type {\n",
       "        vertical-align: middle;\n",
       "    }\n",
       "\n",
       "    .dataframe tbody tr th {\n",
       "        vertical-align: top;\n",
       "    }\n",
       "\n",
       "    .dataframe thead th {\n",
       "        text-align: right;\n",
       "    }\n",
       "</style>\n",
       "<table border=\"1\" class=\"dataframe\">\n",
       "  <thead>\n",
       "    <tr style=\"text-align: right;\">\n",
       "      <th></th>\n",
       "      <th>Unnamed: 0</th>\n",
       "      <th>GRID_TYPE</th>\n",
       "      <th>GAME_ID</th>\n",
       "      <th>GAME_EVENT_ID</th>\n",
       "      <th>PLAYER_ID</th>\n",
       "      <th>PLAYER_NAME</th>\n",
       "      <th>TEAM_ID</th>\n",
       "      <th>TEAM_NAME</th>\n",
       "      <th>PERIOD</th>\n",
       "      <th>MINUTES_REMAINING</th>\n",
       "      <th>SECONDS_REMAINING</th>\n",
       "      <th>EVENT_TYPE</th>\n",
       "      <th>ACTION_TYPE</th>\n",
       "      <th>SHOT_TYPE</th>\n",
       "      <th>SHOT_ZONE_BASIC</th>\n",
       "      <th>SHOT_ZONE_AREA</th>\n",
       "      <th>SHOT_ZONE_RANGE</th>\n",
       "      <th>SHOT_DISTANCE</th>\n",
       "      <th>LOC_X</th>\n",
       "      <th>LOC_Y</th>\n",
       "      <th>SHOT_ATTEMPTED_FLAG</th>\n",
       "      <th>SHOT_MADE_FLAG</th>\n",
       "      <th>GAME_DATE</th>\n",
       "      <th>HTM</th>\n",
       "      <th>VTM</th>\n",
       "    </tr>\n",
       "  </thead>\n",
       "  <tbody>\n",
       "    <tr>\n",
       "      <th>0</th>\n",
       "      <td>4868</td>\n",
       "      <td>Shot Chart Detail</td>\n",
       "      <td>21500001</td>\n",
       "      <td>138</td>\n",
       "      <td>203145</td>\n",
       "      <td>Kent Bazemore</td>\n",
       "      <td>1610612737</td>\n",
       "      <td>Atlanta Hawks</td>\n",
       "      <td>2</td>\n",
       "      <td>10</td>\n",
       "      <td>9</td>\n",
       "      <td>Missed Shot</td>\n",
       "      <td>Cutting Layup Shot</td>\n",
       "      <td>2PT Field Goal</td>\n",
       "      <td>Restricted Area</td>\n",
       "      <td>Center(C)</td>\n",
       "      <td>Less Than 8 ft.</td>\n",
       "      <td>1</td>\n",
       "      <td>12</td>\n",
       "      <td>-1</td>\n",
       "      <td>1</td>\n",
       "      <td>0</td>\n",
       "      <td>20151027</td>\n",
       "      <td>ATL</td>\n",
       "      <td>DET</td>\n",
       "    </tr>\n",
       "    <tr>\n",
       "      <th>1</th>\n",
       "      <td>4869</td>\n",
       "      <td>Shot Chart Detail</td>\n",
       "      <td>21500001</td>\n",
       "      <td>152</td>\n",
       "      <td>203145</td>\n",
       "      <td>Kent Bazemore</td>\n",
       "      <td>1610612737</td>\n",
       "      <td>Atlanta Hawks</td>\n",
       "      <td>2</td>\n",
       "      <td>8</td>\n",
       "      <td>28</td>\n",
       "      <td>Missed Shot</td>\n",
       "      <td>Driving Finger Roll Layup Shot</td>\n",
       "      <td>2PT Field Goal</td>\n",
       "      <td>Restricted Area</td>\n",
       "      <td>Center(C)</td>\n",
       "      <td>Less Than 8 ft.</td>\n",
       "      <td>0</td>\n",
       "      <td>-2</td>\n",
       "      <td>2</td>\n",
       "      <td>1</td>\n",
       "      <td>0</td>\n",
       "      <td>20151027</td>\n",
       "      <td>ATL</td>\n",
       "      <td>DET</td>\n",
       "    </tr>\n",
       "    <tr>\n",
       "      <th>2</th>\n",
       "      <td>4870</td>\n",
       "      <td>Shot Chart Detail</td>\n",
       "      <td>21500001</td>\n",
       "      <td>260</td>\n",
       "      <td>203145</td>\n",
       "      <td>Kent Bazemore</td>\n",
       "      <td>1610612737</td>\n",
       "      <td>Atlanta Hawks</td>\n",
       "      <td>3</td>\n",
       "      <td>9</td>\n",
       "      <td>54</td>\n",
       "      <td>Missed Shot</td>\n",
       "      <td>Jump Shot</td>\n",
       "      <td>3PT Field Goal</td>\n",
       "      <td>Above the Break 3</td>\n",
       "      <td>Left Side Center(LC)</td>\n",
       "      <td>24+ ft.</td>\n",
       "      <td>25</td>\n",
       "      <td>-183</td>\n",
       "      <td>174</td>\n",
       "      <td>1</td>\n",
       "      <td>0</td>\n",
       "      <td>20151027</td>\n",
       "      <td>ATL</td>\n",
       "      <td>DET</td>\n",
       "    </tr>\n",
       "    <tr>\n",
       "      <th>3</th>\n",
       "      <td>4871</td>\n",
       "      <td>Shot Chart Detail</td>\n",
       "      <td>21500019</td>\n",
       "      <td>7</td>\n",
       "      <td>203145</td>\n",
       "      <td>Kent Bazemore</td>\n",
       "      <td>1610612737</td>\n",
       "      <td>Atlanta Hawks</td>\n",
       "      <td>1</td>\n",
       "      <td>11</td>\n",
       "      <td>23</td>\n",
       "      <td>Made Shot</td>\n",
       "      <td>Layup Shot</td>\n",
       "      <td>2PT Field Goal</td>\n",
       "      <td>Restricted Area</td>\n",
       "      <td>Center(C)</td>\n",
       "      <td>Less Than 8 ft.</td>\n",
       "      <td>2</td>\n",
       "      <td>-27</td>\n",
       "      <td>0</td>\n",
       "      <td>1</td>\n",
       "      <td>1</td>\n",
       "      <td>20151029</td>\n",
       "      <td>NYK</td>\n",
       "      <td>ATL</td>\n",
       "    </tr>\n",
       "    <tr>\n",
       "      <th>4</th>\n",
       "      <td>4872</td>\n",
       "      <td>Shot Chart Detail</td>\n",
       "      <td>21500019</td>\n",
       "      <td>197</td>\n",
       "      <td>203145</td>\n",
       "      <td>Kent Bazemore</td>\n",
       "      <td>1610612737</td>\n",
       "      <td>Atlanta Hawks</td>\n",
       "      <td>2</td>\n",
       "      <td>3</td>\n",
       "      <td>44</td>\n",
       "      <td>Missed Shot</td>\n",
       "      <td>Reverse Layup Shot</td>\n",
       "      <td>2PT Field Goal</td>\n",
       "      <td>Restricted Area</td>\n",
       "      <td>Center(C)</td>\n",
       "      <td>Less Than 8 ft.</td>\n",
       "      <td>1</td>\n",
       "      <td>17</td>\n",
       "      <td>8</td>\n",
       "      <td>1</td>\n",
       "      <td>0</td>\n",
       "      <td>20151029</td>\n",
       "      <td>NYK</td>\n",
       "      <td>ATL</td>\n",
       "    </tr>\n",
       "    <tr>\n",
       "      <th>...</th>\n",
       "      <td>...</td>\n",
       "      <td>...</td>\n",
       "      <td>...</td>\n",
       "      <td>...</td>\n",
       "      <td>...</td>\n",
       "      <td>...</td>\n",
       "      <td>...</td>\n",
       "      <td>...</td>\n",
       "      <td>...</td>\n",
       "      <td>...</td>\n",
       "      <td>...</td>\n",
       "      <td>...</td>\n",
       "      <td>...</td>\n",
       "      <td>...</td>\n",
       "      <td>...</td>\n",
       "      <td>...</td>\n",
       "      <td>...</td>\n",
       "      <td>...</td>\n",
       "      <td>...</td>\n",
       "      <td>...</td>\n",
       "      <td>...</td>\n",
       "      <td>...</td>\n",
       "      <td>...</td>\n",
       "      <td>...</td>\n",
       "      <td>...</td>\n",
       "    </tr>\n",
       "    <tr>\n",
       "      <th>718</th>\n",
       "      <td>5587</td>\n",
       "      <td>Shot Chart Detail</td>\n",
       "      <td>21501221</td>\n",
       "      <td>175</td>\n",
       "      <td>203145</td>\n",
       "      <td>Kent Bazemore</td>\n",
       "      <td>1610612737</td>\n",
       "      <td>Atlanta Hawks</td>\n",
       "      <td>2</td>\n",
       "      <td>8</td>\n",
       "      <td>39</td>\n",
       "      <td>Missed Shot</td>\n",
       "      <td>Jump Shot</td>\n",
       "      <td>3PT Field Goal</td>\n",
       "      <td>Above the Break 3</td>\n",
       "      <td>Right Side Center(RC)</td>\n",
       "      <td>24+ ft.</td>\n",
       "      <td>27</td>\n",
       "      <td>218</td>\n",
       "      <td>169</td>\n",
       "      <td>1</td>\n",
       "      <td>0</td>\n",
       "      <td>20160413</td>\n",
       "      <td>WAS</td>\n",
       "      <td>ATL</td>\n",
       "    </tr>\n",
       "    <tr>\n",
       "      <th>719</th>\n",
       "      <td>5588</td>\n",
       "      <td>Shot Chart Detail</td>\n",
       "      <td>21501221</td>\n",
       "      <td>206</td>\n",
       "      <td>203145</td>\n",
       "      <td>Kent Bazemore</td>\n",
       "      <td>1610612737</td>\n",
       "      <td>Atlanta Hawks</td>\n",
       "      <td>2</td>\n",
       "      <td>6</td>\n",
       "      <td>52</td>\n",
       "      <td>Missed Shot</td>\n",
       "      <td>Jump Shot</td>\n",
       "      <td>3PT Field Goal</td>\n",
       "      <td>Above the Break 3</td>\n",
       "      <td>Left Side Center(LC)</td>\n",
       "      <td>24+ ft.</td>\n",
       "      <td>25</td>\n",
       "      <td>-109</td>\n",
       "      <td>232</td>\n",
       "      <td>1</td>\n",
       "      <td>0</td>\n",
       "      <td>20160413</td>\n",
       "      <td>WAS</td>\n",
       "      <td>ATL</td>\n",
       "    </tr>\n",
       "    <tr>\n",
       "      <th>720</th>\n",
       "      <td>5589</td>\n",
       "      <td>Shot Chart Detail</td>\n",
       "      <td>21501221</td>\n",
       "      <td>372</td>\n",
       "      <td>203145</td>\n",
       "      <td>Kent Bazemore</td>\n",
       "      <td>1610612737</td>\n",
       "      <td>Atlanta Hawks</td>\n",
       "      <td>3</td>\n",
       "      <td>7</td>\n",
       "      <td>7</td>\n",
       "      <td>Missed Shot</td>\n",
       "      <td>Jump Shot</td>\n",
       "      <td>2PT Field Goal</td>\n",
       "      <td>In The Paint (Non-RA)</td>\n",
       "      <td>Center(C)</td>\n",
       "      <td>Less Than 8 ft.</td>\n",
       "      <td>7</td>\n",
       "      <td>-34</td>\n",
       "      <td>72</td>\n",
       "      <td>1</td>\n",
       "      <td>0</td>\n",
       "      <td>20160413</td>\n",
       "      <td>WAS</td>\n",
       "      <td>ATL</td>\n",
       "    </tr>\n",
       "    <tr>\n",
       "      <th>721</th>\n",
       "      <td>5590</td>\n",
       "      <td>Shot Chart Detail</td>\n",
       "      <td>21501221</td>\n",
       "      <td>535</td>\n",
       "      <td>203145</td>\n",
       "      <td>Kent Bazemore</td>\n",
       "      <td>1610612737</td>\n",
       "      <td>Atlanta Hawks</td>\n",
       "      <td>4</td>\n",
       "      <td>6</td>\n",
       "      <td>3</td>\n",
       "      <td>Missed Shot</td>\n",
       "      <td>Jump Shot</td>\n",
       "      <td>3PT Field Goal</td>\n",
       "      <td>Above the Break 3</td>\n",
       "      <td>Right Side Center(RC)</td>\n",
       "      <td>24+ ft.</td>\n",
       "      <td>28</td>\n",
       "      <td>192</td>\n",
       "      <td>208</td>\n",
       "      <td>1</td>\n",
       "      <td>0</td>\n",
       "      <td>20160413</td>\n",
       "      <td>WAS</td>\n",
       "      <td>ATL</td>\n",
       "    </tr>\n",
       "    <tr>\n",
       "      <th>722</th>\n",
       "      <td>5591</td>\n",
       "      <td>Shot Chart Detail</td>\n",
       "      <td>21501221</td>\n",
       "      <td>565</td>\n",
       "      <td>203145</td>\n",
       "      <td>Kent Bazemore</td>\n",
       "      <td>1610612737</td>\n",
       "      <td>Atlanta Hawks</td>\n",
       "      <td>4</td>\n",
       "      <td>3</td>\n",
       "      <td>17</td>\n",
       "      <td>Missed Shot</td>\n",
       "      <td>Dunk Shot</td>\n",
       "      <td>2PT Field Goal</td>\n",
       "      <td>Restricted Area</td>\n",
       "      <td>Center(C)</td>\n",
       "      <td>Less Than 8 ft.</td>\n",
       "      <td>0</td>\n",
       "      <td>0</td>\n",
       "      <td>1</td>\n",
       "      <td>1</td>\n",
       "      <td>0</td>\n",
       "      <td>20160413</td>\n",
       "      <td>WAS</td>\n",
       "      <td>ATL</td>\n",
       "    </tr>\n",
       "  </tbody>\n",
       "</table>\n",
       "<p>723 rows × 25 columns</p>\n",
       "</div>"
      ],
      "text/plain": [
       "     Unnamed: 0          GRID_TYPE   GAME_ID  GAME_EVENT_ID  PLAYER_ID  \\\n",
       "0          4868  Shot Chart Detail  21500001            138     203145   \n",
       "1          4869  Shot Chart Detail  21500001            152     203145   \n",
       "2          4870  Shot Chart Detail  21500001            260     203145   \n",
       "3          4871  Shot Chart Detail  21500019              7     203145   \n",
       "4          4872  Shot Chart Detail  21500019            197     203145   \n",
       "..          ...                ...       ...            ...        ...   \n",
       "718        5587  Shot Chart Detail  21501221            175     203145   \n",
       "719        5588  Shot Chart Detail  21501221            206     203145   \n",
       "720        5589  Shot Chart Detail  21501221            372     203145   \n",
       "721        5590  Shot Chart Detail  21501221            535     203145   \n",
       "722        5591  Shot Chart Detail  21501221            565     203145   \n",
       "\n",
       "       PLAYER_NAME     TEAM_ID      TEAM_NAME  PERIOD  MINUTES_REMAINING  \\\n",
       "0    Kent Bazemore  1610612737  Atlanta Hawks       2                 10   \n",
       "1    Kent Bazemore  1610612737  Atlanta Hawks       2                  8   \n",
       "2    Kent Bazemore  1610612737  Atlanta Hawks       3                  9   \n",
       "3    Kent Bazemore  1610612737  Atlanta Hawks       1                 11   \n",
       "4    Kent Bazemore  1610612737  Atlanta Hawks       2                  3   \n",
       "..             ...         ...            ...     ...                ...   \n",
       "718  Kent Bazemore  1610612737  Atlanta Hawks       2                  8   \n",
       "719  Kent Bazemore  1610612737  Atlanta Hawks       2                  6   \n",
       "720  Kent Bazemore  1610612737  Atlanta Hawks       3                  7   \n",
       "721  Kent Bazemore  1610612737  Atlanta Hawks       4                  6   \n",
       "722  Kent Bazemore  1610612737  Atlanta Hawks       4                  3   \n",
       "\n",
       "     SECONDS_REMAINING   EVENT_TYPE                     ACTION_TYPE  \\\n",
       "0                    9  Missed Shot              Cutting Layup Shot   \n",
       "1                   28  Missed Shot  Driving Finger Roll Layup Shot   \n",
       "2                   54  Missed Shot                       Jump Shot   \n",
       "3                   23    Made Shot                      Layup Shot   \n",
       "4                   44  Missed Shot              Reverse Layup Shot   \n",
       "..                 ...          ...                             ...   \n",
       "718                 39  Missed Shot                       Jump Shot   \n",
       "719                 52  Missed Shot                       Jump Shot   \n",
       "720                  7  Missed Shot                       Jump Shot   \n",
       "721                  3  Missed Shot                       Jump Shot   \n",
       "722                 17  Missed Shot                       Dunk Shot   \n",
       "\n",
       "          SHOT_TYPE        SHOT_ZONE_BASIC         SHOT_ZONE_AREA  \\\n",
       "0    2PT Field Goal        Restricted Area              Center(C)   \n",
       "1    2PT Field Goal        Restricted Area              Center(C)   \n",
       "2    3PT Field Goal      Above the Break 3   Left Side Center(LC)   \n",
       "3    2PT Field Goal        Restricted Area              Center(C)   \n",
       "4    2PT Field Goal        Restricted Area              Center(C)   \n",
       "..              ...                    ...                    ...   \n",
       "718  3PT Field Goal      Above the Break 3  Right Side Center(RC)   \n",
       "719  3PT Field Goal      Above the Break 3   Left Side Center(LC)   \n",
       "720  2PT Field Goal  In The Paint (Non-RA)              Center(C)   \n",
       "721  3PT Field Goal      Above the Break 3  Right Side Center(RC)   \n",
       "722  2PT Field Goal        Restricted Area              Center(C)   \n",
       "\n",
       "     SHOT_ZONE_RANGE  SHOT_DISTANCE  LOC_X  LOC_Y  SHOT_ATTEMPTED_FLAG  \\\n",
       "0    Less Than 8 ft.              1     12     -1                    1   \n",
       "1    Less Than 8 ft.              0     -2      2                    1   \n",
       "2            24+ ft.             25   -183    174                    1   \n",
       "3    Less Than 8 ft.              2    -27      0                    1   \n",
       "4    Less Than 8 ft.              1     17      8                    1   \n",
       "..               ...            ...    ...    ...                  ...   \n",
       "718          24+ ft.             27    218    169                    1   \n",
       "719          24+ ft.             25   -109    232                    1   \n",
       "720  Less Than 8 ft.              7    -34     72                    1   \n",
       "721          24+ ft.             28    192    208                    1   \n",
       "722  Less Than 8 ft.              0      0      1                    1   \n",
       "\n",
       "     SHOT_MADE_FLAG  GAME_DATE  HTM  VTM  \n",
       "0                 0   20151027  ATL  DET  \n",
       "1                 0   20151027  ATL  DET  \n",
       "2                 0   20151027  ATL  DET  \n",
       "3                 1   20151029  NYK  ATL  \n",
       "4                 0   20151029  NYK  ATL  \n",
       "..              ...        ...  ...  ...  \n",
       "718               0   20160413  WAS  ATL  \n",
       "719               0   20160413  WAS  ATL  \n",
       "720               0   20160413  WAS  ATL  \n",
       "721               0   20160413  WAS  ATL  \n",
       "722               0   20160413  WAS  ATL  \n",
       "\n",
       "[723 rows x 25 columns]"
      ]
     },
     "execution_count": 5,
     "metadata": {},
     "output_type": "execute_result"
    }
   ],
   "source": [
    "HawksDFDict['Kent Bazemore']"
   ]
  },
  {
   "cell_type": "code",
   "execution_count": 6,
   "metadata": {},
   "outputs": [],
   "source": [
    "HawksDFDict['Kent Bazemore'].to_csv('/Users/jaycohen/Documents/NYCDSA/Capstone_Project/NBA_Shot_Chart_Project/data/Bazemore_Kent_shots.csv', index=False)"
   ]
  },
  {
   "cell_type": "code",
   "execution_count": 7,
   "metadata": {},
   "outputs": [],
   "source": [
    "all_shots = pd.read_csv('/Users/jaycohen/Documents/NYCDSA/Capstone_Project/NBA_Shot_Chart_Project/data/all_shots.csv')"
   ]
  },
  {
   "cell_type": "code",
   "execution_count": 8,
   "metadata": {},
   "outputs": [],
   "source": [
    "all_shots_heaves_removed = all_shots.loc[all_shots['SHOT_ZONE_BASIC'] != 'Backcourt']"
   ]
  },
  {
   "cell_type": "code",
   "execution_count": 9,
   "metadata": {},
   "outputs": [],
   "source": [
    "all_shots_heaves_removed.to_csv('/Users/jaycohen/Documents/NYCDSA/Capstone_Project/NBA_Shot_Chart_Project/data/all_shots_heaves_removed.csv', index=False)"
   ]
  },
  {
   "cell_type": "code",
   "execution_count": 39,
   "metadata": {},
   "outputs": [
    {
     "data": {
      "text/plain": [
       "array(['Wesley Matthews', 'Gorgui Dieng', 'Alex Len', 'Klay Thompson',\n",
       "       'Hollis Thompson', 'Sasha Kaun', 'Elfrid Payton', 'Kent Bazemore',\n",
       "       'Devyn Marble', 'James Johnson', 'Jerian Grant', 'Jason Terry',\n",
       "       'Lance Stephenson', 'Kevin Seraphin', 'Bobby Portis',\n",
       "       'Chase Budinger', 'Ish Smith', 'Taj Gibson', 'DeAndre Jordan',\n",
       "       \"Johnny O'Bryant III\", 'Festus Ezeli', 'James Ennis III',\n",
       "       'Mirza Teletovic', 'Tony Wroten', 'Damjan Rudez',\n",
       "       'Danilo Gallinari', 'Myles Turner', 'CJ Miles', 'Joe Ingles',\n",
       "       'Tony Snell', 'Marvin Williams', 'Andrew Wiggins', 'Devin Harris',\n",
       "       'Andrew Goudelock', 'Willie Reed', 'Raul Neto', 'Chris McCullough',\n",
       "       'Nicolas Batum', 'Tibor Pleiss', 'Kendall Marshall', 'Greg Monroe',\n",
       "       'Darren Collison', 'Joel Anthony', 'Jordan Adams', 'JaVale McGee',\n",
       "       'Luis Scola', 'Meyers Leonard', 'Kevin Martin', 'Dahntay Jones',\n",
       "       'O.J. Mayo', 'Cory Joseph', 'Mo Williams', 'Manu Ginobili',\n",
       "       'James Anderson', 'Hassan Whiteside', 'Rudy Gobert', 'Tony Allen',\n",
       "       'Jared Sullinger', 'Darrell Arthur', 'Matt Barnes',\n",
       "       'Giannis Antetokounmpo', 'Brandon Bass', 'Dennis Schroder',\n",
       "       'T.J. McConnell', 'Brandon Jennings', 'C.J. Watson',\n",
       "       'Gordon Hayward', 'Montrezl Harrell', 'Shabazz Napier',\n",
       "       'Jonas Valanciunas', 'Cristiano Felicio', 'Rodney Hood',\n",
       "       'Lavoy Allen', 'Timofey Mozgov', 'Aaron Brooks', 'Cole Aldrich',\n",
       "       'Avery Bradley', 'Julius Randle', 'Carl Landry', 'Marcus Smart',\n",
       "       'Nikola Vucevic', 'Allen Crabbe', 'Trevor Ariza', 'Jimmy Butler',\n",
       "       'Evan Fournier', 'Andrew Nicholson', 'Dirk Nowitzki',\n",
       "       'Lorenzo Brown', 'Trevor Booker', 'Jameer Nelson', 'Kyle Anderson',\n",
       "       'Isaiah Thomas', 'Terrence Ross', 'Gerald Green', 'Roy Hibbert',\n",
       "       'Christian Wood', 'Larry Nance Jr.', 'Toney Douglas',\n",
       "       'Zaza Pachulia', 'Donatas Motiejunas', 'Victor Oladipo',\n",
       "       'Doug McDermott', 'Isaiah Canaan', 'JJ Hickson', 'Reggie Bullock',\n",
       "       'Rondae Hollis-Jefferson', 'James Harden', 'Harrison Barnes',\n",
       "       'Nick Collison', 'Joffrey Lauvergne', 'Karl-Anthony Towns',\n",
       "       'Josh Smith', 'Stanley Johnson', 'Serge Ibaka', 'Henry Sims',\n",
       "       'Glenn Robinson III', 'Deron Williams', 'PJ Tucker',\n",
       "       'Luke Babbitt', 'Tim Hardaway Jr.', 'Willie Cauley-Stein',\n",
       "       'Stephen Curry', 'Michael Carter-Williams', 'Alonzo Gee',\n",
       "       'Nikola Mirotic', 'Tim Duncan', 'Mitch McGary', 'Rashad Vaughn',\n",
       "       'Lucas Nogueira', 'Marco Belinelli', 'James Michael McAdoo',\n",
       "       'Blake Griffin', 'Wesley Johnson', 'Jonathon Simmons',\n",
       "       'Salah Mejri', 'Kosta Koufos', 'Ronnie Price', 'Tyler Johnson',\n",
       "       'KJ McDaniels', 'Kendrick Perkins', 'Briante Weber',\n",
       "       'Ben McLemore', 'JaMychal Green', 'Darrun Hilliard',\n",
       "       'Mason Plumlee', 'Clint Capela', 'Brandon Knight', 'Dwyane Wade',\n",
       "       'Derrick Rose', 'Thabo Sefolosha', 'Dante Cunningham',\n",
       "       'Shayne Whittington', 'Jordan Hill', 'Adreian Payne',\n",
       "       'Frank Kaminsky', 'DeMar DeRozan', 'Tiago Splitter',\n",
       "       'DeMarcus Cousins', 'George Hill', 'Matt Bonner',\n",
       "       'Justin Anderson', 'Spencer Hawes', 'Drew Gooden', 'Tony Parker',\n",
       "       'Shaun Livingston', 'Anthony Brown', 'Kevin Durant',\n",
       "       'Patrick Patterson', 'Udonis Haslem', 'Monta Ellis',\n",
       "       'Jordan Hamilton', 'Donald Sloan', 'Patty Mills',\n",
       "       'LaMarcus Aldridge', 'Emmanuel Mudiay', 'Tayshaun Prince',\n",
       "       'Brian Roberts', 'Kyle Singler', 'Mario Hezonja', 'Jrue Holiday',\n",
       "       'Jarell Eddie', 'Joe Johnson', 'Cleanthony Early', 'Jerami Grant',\n",
       "       'Tyler Ennis', 'Jeff Green', 'Tyreke Evans', 'Rudy Gay',\n",
       "       'Kevin Love', 'Dwight Powell', 'Anthony Davis', 'Goran Dragic',\n",
       "       'Channing Frye', 'Joe Young', 'Langston Galloway', 'Rajon Rondo',\n",
       "       'Shelvin Mack', 'Jamal Crawford', 'Jodie Meeks', 'Corey Brewer',\n",
       "       'Andre Iguodala', 'David Lee', 'Robert Covington', 'Enes Kanter',\n",
       "       'Ryan Kelly', 'Mike Miller', 'Branden Dawson', 'Bismack Biyombo',\n",
       "       'RJ Hunter', 'Pablo Prigioni', 'Aron Baynes', 'Nikola Pekovic',\n",
       "       'Paul Pierce', 'Robert Sacre', 'John Wall', 'Chris Johnson',\n",
       "       'Noah Vonleh', 'Tim Frazier', 'Tyler Hansbrough', 'Kobe Bryant',\n",
       "       'Patrick Beverley', 'Andre Drummond', 'Justin Holiday',\n",
       "       'Zach Randolph', 'Damian Lillard', 'Nene', 'Trey Burke',\n",
       "       'Thomas Robinson', 'Eric Moreland', 'Ed Davis', 'Jeff Teague',\n",
       "       'Nik Stauskas', 'D.J. Augustin', 'Bojan Bogdanovic', 'Mike Scott',\n",
       "       'Steven Adams', 'Jordan Mickey', 'Will Barton', 'Anthony Tolliver',\n",
       "       'Nick Young', 'Jorge Gutierrez', 'Derrick Williams', 'Luol Deng',\n",
       "       'James Young', 'Josh Huestis', 'Edy Tavares', 'Ricky Rubio',\n",
       "       'Tarik Black', 'Josh McRoberts', 'JaKarr Sampson', 'Kirk Hinrich',\n",
       "       'Sasha Vujacic', 'Robin Lopez', 'Kemba Walker', 'Cliff Alexander',\n",
       "       'Damien Inglis', 'CJ McCollum', 'Anderson Varejao',\n",
       "       'Maurice Harkless', 'Solomon Hill', 'Jeremy Evans', 'Tyler Zeller',\n",
       "       'Brandon Rush', 'Alan Williams', 'Cameron Bairstow', 'Norris Cole',\n",
       "       'Russell Westbrook', 'Ryan Anderson', 'Tristan Thompson',\n",
       "       'Kyle Korver', 'LeBron James', 'Chris Paul', 'Gary Harris',\n",
       "       'Josh Richardson', 'Duje Dukan', 'Alec Burks', 'Richaun Holmes',\n",
       "       'Greg Smith', 'Alexis Ajinca', 'Lou Amundson', 'Jeremy Lamb',\n",
       "       'Cameron Payne', 'Ian Mahinmi', 'Gerald Henderson', 'Al Horford',\n",
       "       'Metta World Peace', 'Justise Winslow', 'Michael Kidd-Gilchrist',\n",
       "       'Marreese Speights', 'Vince Carter', 'Jerryd Bayless',\n",
       "       'Kelly Olynyk', 'Dewayne Dedmon', 'Kenneth Faried', 'Jason Smith',\n",
       "       'Dwight Howard', 'Pau Gasol', 'Courtney Lee', 'Otto Porter Jr.',\n",
       "       'Raymond Felton', 'Jarrett Jack', 'Joakim Noah', 'David West',\n",
       "       'James Jones', 'Charlie Villanueva', 'Rodney Stuckey',\n",
       "       'Delon Wright', 'Chandler Parsons', 'Jose Calderon',\n",
       "       'Austin Rivers', 'Jeremy Lin', 'Kawhi Leonard', 'Kelly Oubre Jr.',\n",
       "       'Jusuf Nurkic', 'Tyson Chandler', 'Bradley Beal', 'Elton Brand',\n",
       "       'Al Jefferson', 'Richard Jefferson', 'Mike Conley', 'John Jenkins',\n",
       "       'J.J. Barea', 'DeMarre Carroll', 'Arron Afflalo', 'Xavier Munford',\n",
       "       'Chris Kaman', 'Khris Middleton', 'Carmelo Anthony', 'Kyle Lowry',\n",
       "       'Omer Asik', 'Kevin Garnett', 'Randy Foye', 'Nerlens Noel',\n",
       "       'Boban Marjanovic', 'Ersan Ilyasova', 'Luis Montero',\n",
       "       'Jordan Clarkson', \"D'Angelo Russell\", 'Leandro Barbosa',\n",
       "       'Draymond Green', 'Jarell Martin', 'Cody Zeller', 'Andrew Bogut',\n",
       "       'Jason Thompson', 'Nikola Jokic', \"E'Twaun Moore\",\n",
       "       'Derrick Favors', 'Bryce Cotton', 'Mike Muscala', 'Jeff Ayres',\n",
       "       'Andre Roberson', 'Brandan Wright', 'Evan Turner',\n",
       "       'Anthony Morrow', \"Kyle O'Quinn\", 'Brook Lopez', 'Devin Booker',\n",
       "       'Eric Bledsoe', 'Jahlil Okafor', \"Amar'e Stoudemire\",\n",
       "       'Kristaps Porzingis', 'Garrett Temple', 'Matthew Dellavedova',\n",
       "       'Shane Larkin', 'Eric Gordon', 'Archie Goodwin', 'John Henson',\n",
       "       'Marcin Gortat', 'Dion Waiters', 'TJ Warren', 'Omri Casspi',\n",
       "       'Amir Johnson', 'Terrence Jones', 'Spencer Dinwiddie',\n",
       "       'Norman Powell', 'Kris Humphries', 'Ian Clark', 'Markel Brown',\n",
       "       'Tobias Harris', 'Lou Williams', 'JR Smith', 'Bruno Caboclo',\n",
       "       'Troy Daniels', 'Alan Anderson', 'Ramon Sessions', 'Jeff Withey',\n",
       "       'Miles Plumlee', 'Nemanja Bjelica', 'Ty Lawson', 'Marcelo Huertas',\n",
       "       'Kentavious Caldwell-Pope', 'Pat Connaughton', 'Lamar Patterson',\n",
       "       'Jared Dudley', 'Lance Thomas', 'Mike Dunleavy', 'Jonas Jerebko',\n",
       "       'Kyrie Irving', 'Zach LaVine', 'Paul Millsap', 'Chris Bosh',\n",
       "       'PJ Hairston', 'Danny Green', 'Steve Novak', 'CJ Wilcox',\n",
       "       'Reggie Jackson', 'Jordan McRae', 'Quincy Acy', 'Steve Blake',\n",
       "       'Boris Diaw', 'Paul George', 'Trey Lyles', 'Seth Curry',\n",
       "       'Caron Butler', 'Andre Miller', 'Al-Farouq Aminu', 'Jae Crowder',\n",
       "       'Kevon Looney', 'Rakeem Christmas', 'Iman Shumpert',\n",
       "       'Greivis Vasquez', 'Sergey Karasev', 'Shabazz Muhammad',\n",
       "       'Tyus Jones', 'JJ Redick', 'Wayne Ellington', 'Sean Kilpatrick',\n",
       "       'Jon Leuer', 'Marcus Thornton', 'Luc Mbah a Moute',\n",
       "       'Chris Andersen', 'Michael Beasley', 'Aaron Harrison',\n",
       "       'Aaron Gordon', 'Terry Rozier', 'Thaddeus Young', 'Marcus Morris',\n",
       "       'Jabari Parker', 'Marc Gasol', 'Axel Toupane', 'Nazr Mohammed',\n",
       "       'Jordan Farmar', 'Markieff Morris'], dtype=object)"
      ]
     },
     "execution_count": 39,
     "metadata": {},
     "output_type": "execute_result"
    }
   ],
   "source": [
    "allplayers = all_shots_heaves_removed.PLAYER_NAME.unique()\n",
    "allplayers"
   ]
  },
  {
   "cell_type": "code",
   "execution_count": 40,
   "metadata": {},
   "outputs": [],
   "source": [
    "allplayersDataFrameDict = {elem : pd.DataFrame for elem in allplayers}\n",
    "\n",
    "for key in allplayersDataFrameDict.keys():\n",
    "    allplayersDataFrameDict[key] = all_shots_heaves_removed[:][all_shots_heaves_removed.PLAYER_NAME == key]"
   ]
  },
  {
   "cell_type": "code",
   "execution_count": 42,
   "metadata": {},
   "outputs": [],
   "source": [
    "allplayersDataFrameDict = {x.replace(' ', '_'): v  \n",
    "     for x, v in allplayersDataFrameDict.items()}"
   ]
  },
  {
   "cell_type": "code",
   "execution_count": 43,
   "metadata": {
    "scrolled": true
   },
   "outputs": [
    {
     "data": {
      "text/html": [
       "<div>\n",
       "<style scoped>\n",
       "    .dataframe tbody tr th:only-of-type {\n",
       "        vertical-align: middle;\n",
       "    }\n",
       "\n",
       "    .dataframe tbody tr th {\n",
       "        vertical-align: top;\n",
       "    }\n",
       "\n",
       "    .dataframe thead th {\n",
       "        text-align: right;\n",
       "    }\n",
       "</style>\n",
       "<table border=\"1\" class=\"dataframe\">\n",
       "  <thead>\n",
       "    <tr style=\"text-align: right;\">\n",
       "      <th></th>\n",
       "      <th>GRID_TYPE</th>\n",
       "      <th>GAME_ID</th>\n",
       "      <th>GAME_EVENT_ID</th>\n",
       "      <th>PLAYER_ID</th>\n",
       "      <th>PLAYER_NAME</th>\n",
       "      <th>TEAM_ID</th>\n",
       "      <th>TEAM_NAME</th>\n",
       "      <th>PERIOD</th>\n",
       "      <th>MINUTES_REMAINING</th>\n",
       "      <th>SECONDS_REMAINING</th>\n",
       "      <th>EVENT_TYPE</th>\n",
       "      <th>ACTION_TYPE</th>\n",
       "      <th>SHOT_TYPE</th>\n",
       "      <th>SHOT_ZONE_BASIC</th>\n",
       "      <th>SHOT_ZONE_AREA</th>\n",
       "      <th>SHOT_ZONE_RANGE</th>\n",
       "      <th>SHOT_DISTANCE</th>\n",
       "      <th>LOC_X</th>\n",
       "      <th>LOC_Y</th>\n",
       "      <th>SHOT_ATTEMPTED_FLAG</th>\n",
       "      <th>SHOT_MADE_FLAG</th>\n",
       "      <th>GAME_DATE</th>\n",
       "      <th>HTM</th>\n",
       "      <th>VTM</th>\n",
       "    </tr>\n",
       "  </thead>\n",
       "  <tbody>\n",
       "    <tr>\n",
       "      <th>127603</th>\n",
       "      <td>Shot Chart Detail</td>\n",
       "      <td>21500002</td>\n",
       "      <td>11</td>\n",
       "      <td>2544</td>\n",
       "      <td>LeBron James</td>\n",
       "      <td>1610612739</td>\n",
       "      <td>Cleveland Cavaliers</td>\n",
       "      <td>1</td>\n",
       "      <td>10</td>\n",
       "      <td>28</td>\n",
       "      <td>Made Shot</td>\n",
       "      <td>Jump Shot</td>\n",
       "      <td>2PT Field Goal</td>\n",
       "      <td>Mid-Range</td>\n",
       "      <td>Left Side(L)</td>\n",
       "      <td>16-24 ft.</td>\n",
       "      <td>20</td>\n",
       "      <td>-191</td>\n",
       "      <td>65</td>\n",
       "      <td>1</td>\n",
       "      <td>1</td>\n",
       "      <td>20151027</td>\n",
       "      <td>CHI</td>\n",
       "      <td>CLE</td>\n",
       "    </tr>\n",
       "    <tr>\n",
       "      <th>127604</th>\n",
       "      <td>Shot Chart Detail</td>\n",
       "      <td>21500002</td>\n",
       "      <td>16</td>\n",
       "      <td>2544</td>\n",
       "      <td>LeBron James</td>\n",
       "      <td>1610612739</td>\n",
       "      <td>Cleveland Cavaliers</td>\n",
       "      <td>1</td>\n",
       "      <td>9</td>\n",
       "      <td>47</td>\n",
       "      <td>Missed Shot</td>\n",
       "      <td>Jump Shot</td>\n",
       "      <td>2PT Field Goal</td>\n",
       "      <td>Mid-Range</td>\n",
       "      <td>Center(C)</td>\n",
       "      <td>16-24 ft.</td>\n",
       "      <td>21</td>\n",
       "      <td>19</td>\n",
       "      <td>214</td>\n",
       "      <td>1</td>\n",
       "      <td>0</td>\n",
       "      <td>20151027</td>\n",
       "      <td>CHI</td>\n",
       "      <td>CLE</td>\n",
       "    </tr>\n",
       "    <tr>\n",
       "      <th>127605</th>\n",
       "      <td>Shot Chart Detail</td>\n",
       "      <td>21500002</td>\n",
       "      <td>19</td>\n",
       "      <td>2544</td>\n",
       "      <td>LeBron James</td>\n",
       "      <td>1610612739</td>\n",
       "      <td>Cleveland Cavaliers</td>\n",
       "      <td>1</td>\n",
       "      <td>9</td>\n",
       "      <td>16</td>\n",
       "      <td>Missed Shot</td>\n",
       "      <td>Fadeaway Jump Shot</td>\n",
       "      <td>2PT Field Goal</td>\n",
       "      <td>In The Paint (Non-RA)</td>\n",
       "      <td>Center(C)</td>\n",
       "      <td>Less Than 8 ft.</td>\n",
       "      <td>7</td>\n",
       "      <td>-27</td>\n",
       "      <td>65</td>\n",
       "      <td>1</td>\n",
       "      <td>0</td>\n",
       "      <td>20151027</td>\n",
       "      <td>CHI</td>\n",
       "      <td>CLE</td>\n",
       "    </tr>\n",
       "    <tr>\n",
       "      <th>127606</th>\n",
       "      <td>Shot Chart Detail</td>\n",
       "      <td>21500002</td>\n",
       "      <td>24</td>\n",
       "      <td>2544</td>\n",
       "      <td>LeBron James</td>\n",
       "      <td>1610612739</td>\n",
       "      <td>Cleveland Cavaliers</td>\n",
       "      <td>1</td>\n",
       "      <td>9</td>\n",
       "      <td>2</td>\n",
       "      <td>Made Shot</td>\n",
       "      <td>Running Dunk Shot</td>\n",
       "      <td>2PT Field Goal</td>\n",
       "      <td>Restricted Area</td>\n",
       "      <td>Center(C)</td>\n",
       "      <td>Less Than 8 ft.</td>\n",
       "      <td>0</td>\n",
       "      <td>0</td>\n",
       "      <td>1</td>\n",
       "      <td>1</td>\n",
       "      <td>1</td>\n",
       "      <td>20151027</td>\n",
       "      <td>CHI</td>\n",
       "      <td>CLE</td>\n",
       "    </tr>\n",
       "    <tr>\n",
       "      <th>127607</th>\n",
       "      <td>Shot Chart Detail</td>\n",
       "      <td>21500002</td>\n",
       "      <td>35</td>\n",
       "      <td>2544</td>\n",
       "      <td>LeBron James</td>\n",
       "      <td>1610612739</td>\n",
       "      <td>Cleveland Cavaliers</td>\n",
       "      <td>1</td>\n",
       "      <td>7</td>\n",
       "      <td>57</td>\n",
       "      <td>Made Shot</td>\n",
       "      <td>Alley Oop Layup shot</td>\n",
       "      <td>2PT Field Goal</td>\n",
       "      <td>Restricted Area</td>\n",
       "      <td>Center(C)</td>\n",
       "      <td>Less Than 8 ft.</td>\n",
       "      <td>2</td>\n",
       "      <td>19</td>\n",
       "      <td>21</td>\n",
       "      <td>1</td>\n",
       "      <td>1</td>\n",
       "      <td>20151027</td>\n",
       "      <td>CHI</td>\n",
       "      <td>CLE</td>\n",
       "    </tr>\n",
       "    <tr>\n",
       "      <th>...</th>\n",
       "      <td>...</td>\n",
       "      <td>...</td>\n",
       "      <td>...</td>\n",
       "      <td>...</td>\n",
       "      <td>...</td>\n",
       "      <td>...</td>\n",
       "      <td>...</td>\n",
       "      <td>...</td>\n",
       "      <td>...</td>\n",
       "      <td>...</td>\n",
       "      <td>...</td>\n",
       "      <td>...</td>\n",
       "      <td>...</td>\n",
       "      <td>...</td>\n",
       "      <td>...</td>\n",
       "      <td>...</td>\n",
       "      <td>...</td>\n",
       "      <td>...</td>\n",
       "      <td>...</td>\n",
       "      <td>...</td>\n",
       "      <td>...</td>\n",
       "      <td>...</td>\n",
       "      <td>...</td>\n",
       "      <td>...</td>\n",
       "    </tr>\n",
       "    <tr>\n",
       "      <th>129013</th>\n",
       "      <td>Shot Chart Detail</td>\n",
       "      <td>21501203</td>\n",
       "      <td>298</td>\n",
       "      <td>2544</td>\n",
       "      <td>LeBron James</td>\n",
       "      <td>1610612739</td>\n",
       "      <td>Cleveland Cavaliers</td>\n",
       "      <td>3</td>\n",
       "      <td>7</td>\n",
       "      <td>27</td>\n",
       "      <td>Missed Shot</td>\n",
       "      <td>Driving Floating Jump Shot</td>\n",
       "      <td>2PT Field Goal</td>\n",
       "      <td>Mid-Range</td>\n",
       "      <td>Left Side(L)</td>\n",
       "      <td>8-16 ft.</td>\n",
       "      <td>11</td>\n",
       "      <td>-110</td>\n",
       "      <td>36</td>\n",
       "      <td>1</td>\n",
       "      <td>0</td>\n",
       "      <td>20160411</td>\n",
       "      <td>CLE</td>\n",
       "      <td>ATL</td>\n",
       "    </tr>\n",
       "    <tr>\n",
       "      <th>129014</th>\n",
       "      <td>Shot Chart Detail</td>\n",
       "      <td>21501203</td>\n",
       "      <td>312</td>\n",
       "      <td>2544</td>\n",
       "      <td>LeBron James</td>\n",
       "      <td>1610612739</td>\n",
       "      <td>Cleveland Cavaliers</td>\n",
       "      <td>3</td>\n",
       "      <td>6</td>\n",
       "      <td>23</td>\n",
       "      <td>Made Shot</td>\n",
       "      <td>Jump Shot</td>\n",
       "      <td>3PT Field Goal</td>\n",
       "      <td>Above the Break 3</td>\n",
       "      <td>Left Side Center(LC)</td>\n",
       "      <td>24+ ft.</td>\n",
       "      <td>25</td>\n",
       "      <td>-161</td>\n",
       "      <td>203</td>\n",
       "      <td>1</td>\n",
       "      <td>1</td>\n",
       "      <td>20160411</td>\n",
       "      <td>CLE</td>\n",
       "      <td>ATL</td>\n",
       "    </tr>\n",
       "    <tr>\n",
       "      <th>129015</th>\n",
       "      <td>Shot Chart Detail</td>\n",
       "      <td>21501203</td>\n",
       "      <td>321</td>\n",
       "      <td>2544</td>\n",
       "      <td>LeBron James</td>\n",
       "      <td>1610612739</td>\n",
       "      <td>Cleveland Cavaliers</td>\n",
       "      <td>3</td>\n",
       "      <td>5</td>\n",
       "      <td>34</td>\n",
       "      <td>Made Shot</td>\n",
       "      <td>Jump Shot</td>\n",
       "      <td>2PT Field Goal</td>\n",
       "      <td>In The Paint (Non-RA)</td>\n",
       "      <td>Center(C)</td>\n",
       "      <td>Less Than 8 ft.</td>\n",
       "      <td>5</td>\n",
       "      <td>-19</td>\n",
       "      <td>56</td>\n",
       "      <td>1</td>\n",
       "      <td>1</td>\n",
       "      <td>20160411</td>\n",
       "      <td>CLE</td>\n",
       "      <td>ATL</td>\n",
       "    </tr>\n",
       "    <tr>\n",
       "      <th>129016</th>\n",
       "      <td>Shot Chart Detail</td>\n",
       "      <td>21501203</td>\n",
       "      <td>343</td>\n",
       "      <td>2544</td>\n",
       "      <td>LeBron James</td>\n",
       "      <td>1610612739</td>\n",
       "      <td>Cleveland Cavaliers</td>\n",
       "      <td>3</td>\n",
       "      <td>4</td>\n",
       "      <td>4</td>\n",
       "      <td>Made Shot</td>\n",
       "      <td>Driving Layup Shot</td>\n",
       "      <td>2PT Field Goal</td>\n",
       "      <td>Restricted Area</td>\n",
       "      <td>Center(C)</td>\n",
       "      <td>Less Than 8 ft.</td>\n",
       "      <td>0</td>\n",
       "      <td>-9</td>\n",
       "      <td>3</td>\n",
       "      <td>1</td>\n",
       "      <td>1</td>\n",
       "      <td>20160411</td>\n",
       "      <td>CLE</td>\n",
       "      <td>ATL</td>\n",
       "    </tr>\n",
       "    <tr>\n",
       "      <th>129017</th>\n",
       "      <td>Shot Chart Detail</td>\n",
       "      <td>21501203</td>\n",
       "      <td>361</td>\n",
       "      <td>2544</td>\n",
       "      <td>LeBron James</td>\n",
       "      <td>1610612739</td>\n",
       "      <td>Cleveland Cavaliers</td>\n",
       "      <td>3</td>\n",
       "      <td>2</td>\n",
       "      <td>58</td>\n",
       "      <td>Made Shot</td>\n",
       "      <td>Cutting Dunk Shot</td>\n",
       "      <td>2PT Field Goal</td>\n",
       "      <td>Restricted Area</td>\n",
       "      <td>Center(C)</td>\n",
       "      <td>Less Than 8 ft.</td>\n",
       "      <td>0</td>\n",
       "      <td>0</td>\n",
       "      <td>1</td>\n",
       "      <td>1</td>\n",
       "      <td>1</td>\n",
       "      <td>20160411</td>\n",
       "      <td>CLE</td>\n",
       "      <td>ATL</td>\n",
       "    </tr>\n",
       "  </tbody>\n",
       "</table>\n",
       "<p>1415 rows × 24 columns</p>\n",
       "</div>"
      ],
      "text/plain": [
       "                GRID_TYPE   GAME_ID  GAME_EVENT_ID  PLAYER_ID   PLAYER_NAME  \\\n",
       "127603  Shot Chart Detail  21500002             11       2544  LeBron James   \n",
       "127604  Shot Chart Detail  21500002             16       2544  LeBron James   \n",
       "127605  Shot Chart Detail  21500002             19       2544  LeBron James   \n",
       "127606  Shot Chart Detail  21500002             24       2544  LeBron James   \n",
       "127607  Shot Chart Detail  21500002             35       2544  LeBron James   \n",
       "...                   ...       ...            ...        ...           ...   \n",
       "129013  Shot Chart Detail  21501203            298       2544  LeBron James   \n",
       "129014  Shot Chart Detail  21501203            312       2544  LeBron James   \n",
       "129015  Shot Chart Detail  21501203            321       2544  LeBron James   \n",
       "129016  Shot Chart Detail  21501203            343       2544  LeBron James   \n",
       "129017  Shot Chart Detail  21501203            361       2544  LeBron James   \n",
       "\n",
       "           TEAM_ID            TEAM_NAME  PERIOD  MINUTES_REMAINING  \\\n",
       "127603  1610612739  Cleveland Cavaliers       1                 10   \n",
       "127604  1610612739  Cleveland Cavaliers       1                  9   \n",
       "127605  1610612739  Cleveland Cavaliers       1                  9   \n",
       "127606  1610612739  Cleveland Cavaliers       1                  9   \n",
       "127607  1610612739  Cleveland Cavaliers       1                  7   \n",
       "...            ...                  ...     ...                ...   \n",
       "129013  1610612739  Cleveland Cavaliers       3                  7   \n",
       "129014  1610612739  Cleveland Cavaliers       3                  6   \n",
       "129015  1610612739  Cleveland Cavaliers       3                  5   \n",
       "129016  1610612739  Cleveland Cavaliers       3                  4   \n",
       "129017  1610612739  Cleveland Cavaliers       3                  2   \n",
       "\n",
       "        SECONDS_REMAINING   EVENT_TYPE                 ACTION_TYPE  \\\n",
       "127603                 28    Made Shot                   Jump Shot   \n",
       "127604                 47  Missed Shot                   Jump Shot   \n",
       "127605                 16  Missed Shot          Fadeaway Jump Shot   \n",
       "127606                  2    Made Shot           Running Dunk Shot   \n",
       "127607                 57    Made Shot        Alley Oop Layup shot   \n",
       "...                   ...          ...                         ...   \n",
       "129013                 27  Missed Shot  Driving Floating Jump Shot   \n",
       "129014                 23    Made Shot                   Jump Shot   \n",
       "129015                 34    Made Shot                   Jump Shot   \n",
       "129016                  4    Made Shot          Driving Layup Shot   \n",
       "129017                 58    Made Shot           Cutting Dunk Shot   \n",
       "\n",
       "             SHOT_TYPE        SHOT_ZONE_BASIC        SHOT_ZONE_AREA  \\\n",
       "127603  2PT Field Goal              Mid-Range          Left Side(L)   \n",
       "127604  2PT Field Goal              Mid-Range             Center(C)   \n",
       "127605  2PT Field Goal  In The Paint (Non-RA)             Center(C)   \n",
       "127606  2PT Field Goal        Restricted Area             Center(C)   \n",
       "127607  2PT Field Goal        Restricted Area             Center(C)   \n",
       "...                ...                    ...                   ...   \n",
       "129013  2PT Field Goal              Mid-Range          Left Side(L)   \n",
       "129014  3PT Field Goal      Above the Break 3  Left Side Center(LC)   \n",
       "129015  2PT Field Goal  In The Paint (Non-RA)             Center(C)   \n",
       "129016  2PT Field Goal        Restricted Area             Center(C)   \n",
       "129017  2PT Field Goal        Restricted Area             Center(C)   \n",
       "\n",
       "        SHOT_ZONE_RANGE  SHOT_DISTANCE  LOC_X  LOC_Y  SHOT_ATTEMPTED_FLAG  \\\n",
       "127603        16-24 ft.             20   -191     65                    1   \n",
       "127604        16-24 ft.             21     19    214                    1   \n",
       "127605  Less Than 8 ft.              7    -27     65                    1   \n",
       "127606  Less Than 8 ft.              0      0      1                    1   \n",
       "127607  Less Than 8 ft.              2     19     21                    1   \n",
       "...                 ...            ...    ...    ...                  ...   \n",
       "129013         8-16 ft.             11   -110     36                    1   \n",
       "129014          24+ ft.             25   -161    203                    1   \n",
       "129015  Less Than 8 ft.              5    -19     56                    1   \n",
       "129016  Less Than 8 ft.              0     -9      3                    1   \n",
       "129017  Less Than 8 ft.              0      0      1                    1   \n",
       "\n",
       "        SHOT_MADE_FLAG  GAME_DATE  HTM  VTM  \n",
       "127603               1   20151027  CHI  CLE  \n",
       "127604               0   20151027  CHI  CLE  \n",
       "127605               0   20151027  CHI  CLE  \n",
       "127606               1   20151027  CHI  CLE  \n",
       "127607               1   20151027  CHI  CLE  \n",
       "...                ...        ...  ...  ...  \n",
       "129013               0   20160411  CLE  ATL  \n",
       "129014               1   20160411  CLE  ATL  \n",
       "129015               1   20160411  CLE  ATL  \n",
       "129016               1   20160411  CLE  ATL  \n",
       "129017               1   20160411  CLE  ATL  \n",
       "\n",
       "[1415 rows x 24 columns]"
      ]
     },
     "execution_count": 43,
     "metadata": {},
     "output_type": "execute_result"
    }
   ],
   "source": [
    "allplayersDataFrameDict['LeBron_James']"
   ]
  },
  {
   "cell_type": "code",
   "execution_count": 44,
   "metadata": {},
   "outputs": [
    {
     "data": {
      "text/html": [
       "<div>\n",
       "<style scoped>\n",
       "    .dataframe tbody tr th:only-of-type {\n",
       "        vertical-align: middle;\n",
       "    }\n",
       "\n",
       "    .dataframe tbody tr th {\n",
       "        vertical-align: top;\n",
       "    }\n",
       "\n",
       "    .dataframe thead th {\n",
       "        text-align: right;\n",
       "    }\n",
       "</style>\n",
       "<table border=\"1\" class=\"dataframe\">\n",
       "  <thead>\n",
       "    <tr style=\"text-align: right;\">\n",
       "      <th></th>\n",
       "      <th>GRID_TYPE</th>\n",
       "      <th>GAME_ID</th>\n",
       "      <th>GAME_EVENT_ID</th>\n",
       "      <th>PLAYER_ID</th>\n",
       "      <th>PLAYER_NAME</th>\n",
       "      <th>TEAM_ID</th>\n",
       "      <th>TEAM_NAME</th>\n",
       "      <th>PERIOD</th>\n",
       "      <th>MINUTES_REMAINING</th>\n",
       "      <th>SECONDS_REMAINING</th>\n",
       "      <th>EVENT_TYPE</th>\n",
       "      <th>ACTION_TYPE</th>\n",
       "      <th>SHOT_TYPE</th>\n",
       "      <th>SHOT_ZONE_BASIC</th>\n",
       "      <th>SHOT_ZONE_AREA</th>\n",
       "      <th>SHOT_ZONE_RANGE</th>\n",
       "      <th>SHOT_DISTANCE</th>\n",
       "      <th>LOC_X</th>\n",
       "      <th>LOC_Y</th>\n",
       "      <th>SHOT_ATTEMPTED_FLAG</th>\n",
       "      <th>SHOT_MADE_FLAG</th>\n",
       "      <th>GAME_DATE</th>\n",
       "      <th>HTM</th>\n",
       "      <th>VTM</th>\n",
       "    </tr>\n",
       "  </thead>\n",
       "  <tbody>\n",
       "    <tr>\n",
       "      <th>2057</th>\n",
       "      <td>Shot Chart Detail</td>\n",
       "      <td>21500003</td>\n",
       "      <td>22</td>\n",
       "      <td>202691</td>\n",
       "      <td>Klay Thompson</td>\n",
       "      <td>1610612744</td>\n",
       "      <td>Golden State Warriors</td>\n",
       "      <td>1</td>\n",
       "      <td>8</td>\n",
       "      <td>37</td>\n",
       "      <td>Missed Shot</td>\n",
       "      <td>Jump Shot</td>\n",
       "      <td>3PT Field Goal</td>\n",
       "      <td>Above the Break 3</td>\n",
       "      <td>Right Side Center(RC)</td>\n",
       "      <td>24+ ft.</td>\n",
       "      <td>24</td>\n",
       "      <td>82</td>\n",
       "      <td>232</td>\n",
       "      <td>1</td>\n",
       "      <td>0</td>\n",
       "      <td>20151027</td>\n",
       "      <td>GSW</td>\n",
       "      <td>NOP</td>\n",
       "    </tr>\n",
       "    <tr>\n",
       "      <th>2058</th>\n",
       "      <td>Shot Chart Detail</td>\n",
       "      <td>21500003</td>\n",
       "      <td>28</td>\n",
       "      <td>202691</td>\n",
       "      <td>Klay Thompson</td>\n",
       "      <td>1610612744</td>\n",
       "      <td>Golden State Warriors</td>\n",
       "      <td>1</td>\n",
       "      <td>8</td>\n",
       "      <td>5</td>\n",
       "      <td>Missed Shot</td>\n",
       "      <td>Fadeaway Jump Shot</td>\n",
       "      <td>2PT Field Goal</td>\n",
       "      <td>In The Paint (Non-RA)</td>\n",
       "      <td>Center(C)</td>\n",
       "      <td>8-16 ft.</td>\n",
       "      <td>14</td>\n",
       "      <td>-55</td>\n",
       "      <td>131</td>\n",
       "      <td>1</td>\n",
       "      <td>0</td>\n",
       "      <td>20151027</td>\n",
       "      <td>GSW</td>\n",
       "      <td>NOP</td>\n",
       "    </tr>\n",
       "    <tr>\n",
       "      <th>2059</th>\n",
       "      <td>Shot Chart Detail</td>\n",
       "      <td>21500003</td>\n",
       "      <td>41</td>\n",
       "      <td>202691</td>\n",
       "      <td>Klay Thompson</td>\n",
       "      <td>1610612744</td>\n",
       "      <td>Golden State Warriors</td>\n",
       "      <td>1</td>\n",
       "      <td>6</td>\n",
       "      <td>22</td>\n",
       "      <td>Made Shot</td>\n",
       "      <td>Driving Finger Roll Layup Shot</td>\n",
       "      <td>2PT Field Goal</td>\n",
       "      <td>Restricted Area</td>\n",
       "      <td>Center(C)</td>\n",
       "      <td>Less Than 8 ft.</td>\n",
       "      <td>1</td>\n",
       "      <td>3</td>\n",
       "      <td>10</td>\n",
       "      <td>1</td>\n",
       "      <td>1</td>\n",
       "      <td>20151027</td>\n",
       "      <td>GSW</td>\n",
       "      <td>NOP</td>\n",
       "    </tr>\n",
       "    <tr>\n",
       "      <th>2060</th>\n",
       "      <td>Shot Chart Detail</td>\n",
       "      <td>21500003</td>\n",
       "      <td>156</td>\n",
       "      <td>202691</td>\n",
       "      <td>Klay Thompson</td>\n",
       "      <td>1610612744</td>\n",
       "      <td>Golden State Warriors</td>\n",
       "      <td>2</td>\n",
       "      <td>9</td>\n",
       "      <td>34</td>\n",
       "      <td>Made Shot</td>\n",
       "      <td>Driving Finger Roll Layup Shot</td>\n",
       "      <td>2PT Field Goal</td>\n",
       "      <td>Restricted Area</td>\n",
       "      <td>Center(C)</td>\n",
       "      <td>Less Than 8 ft.</td>\n",
       "      <td>1</td>\n",
       "      <td>-16</td>\n",
       "      <td>8</td>\n",
       "      <td>1</td>\n",
       "      <td>1</td>\n",
       "      <td>20151027</td>\n",
       "      <td>GSW</td>\n",
       "      <td>NOP</td>\n",
       "    </tr>\n",
       "    <tr>\n",
       "      <th>2061</th>\n",
       "      <td>Shot Chart Detail</td>\n",
       "      <td>21500003</td>\n",
       "      <td>283</td>\n",
       "      <td>202691</td>\n",
       "      <td>Klay Thompson</td>\n",
       "      <td>1610612744</td>\n",
       "      <td>Golden State Warriors</td>\n",
       "      <td>3</td>\n",
       "      <td>11</td>\n",
       "      <td>43</td>\n",
       "      <td>Made Shot</td>\n",
       "      <td>Step Back Jump shot</td>\n",
       "      <td>2PT Field Goal</td>\n",
       "      <td>In The Paint (Non-RA)</td>\n",
       "      <td>Center(C)</td>\n",
       "      <td>8-16 ft.</td>\n",
       "      <td>13</td>\n",
       "      <td>66</td>\n",
       "      <td>116</td>\n",
       "      <td>1</td>\n",
       "      <td>1</td>\n",
       "      <td>20151027</td>\n",
       "      <td>GSW</td>\n",
       "      <td>NOP</td>\n",
       "    </tr>\n",
       "    <tr>\n",
       "      <th>...</th>\n",
       "      <td>...</td>\n",
       "      <td>...</td>\n",
       "      <td>...</td>\n",
       "      <td>...</td>\n",
       "      <td>...</td>\n",
       "      <td>...</td>\n",
       "      <td>...</td>\n",
       "      <td>...</td>\n",
       "      <td>...</td>\n",
       "      <td>...</td>\n",
       "      <td>...</td>\n",
       "      <td>...</td>\n",
       "      <td>...</td>\n",
       "      <td>...</td>\n",
       "      <td>...</td>\n",
       "      <td>...</td>\n",
       "      <td>...</td>\n",
       "      <td>...</td>\n",
       "      <td>...</td>\n",
       "      <td>...</td>\n",
       "      <td>...</td>\n",
       "      <td>...</td>\n",
       "      <td>...</td>\n",
       "      <td>...</td>\n",
       "    </tr>\n",
       "    <tr>\n",
       "      <th>3438</th>\n",
       "      <td>Shot Chart Detail</td>\n",
       "      <td>21501227</td>\n",
       "      <td>212</td>\n",
       "      <td>202691</td>\n",
       "      <td>Klay Thompson</td>\n",
       "      <td>1610612744</td>\n",
       "      <td>Golden State Warriors</td>\n",
       "      <td>2</td>\n",
       "      <td>4</td>\n",
       "      <td>4</td>\n",
       "      <td>Made Shot</td>\n",
       "      <td>Pullup Jump shot</td>\n",
       "      <td>3PT Field Goal</td>\n",
       "      <td>Above the Break 3</td>\n",
       "      <td>Right Side Center(RC)</td>\n",
       "      <td>24+ ft.</td>\n",
       "      <td>27</td>\n",
       "      <td>99</td>\n",
       "      <td>252</td>\n",
       "      <td>1</td>\n",
       "      <td>1</td>\n",
       "      <td>20160413</td>\n",
       "      <td>GSW</td>\n",
       "      <td>MEM</td>\n",
       "    </tr>\n",
       "    <tr>\n",
       "      <th>3439</th>\n",
       "      <td>Shot Chart Detail</td>\n",
       "      <td>21501227</td>\n",
       "      <td>241</td>\n",
       "      <td>202691</td>\n",
       "      <td>Klay Thompson</td>\n",
       "      <td>1610612744</td>\n",
       "      <td>Golden State Warriors</td>\n",
       "      <td>2</td>\n",
       "      <td>1</td>\n",
       "      <td>42</td>\n",
       "      <td>Made Shot</td>\n",
       "      <td>Pullup Jump shot</td>\n",
       "      <td>3PT Field Goal</td>\n",
       "      <td>Right Corner 3</td>\n",
       "      <td>Right Side(R)</td>\n",
       "      <td>24+ ft.</td>\n",
       "      <td>25</td>\n",
       "      <td>240</td>\n",
       "      <td>80</td>\n",
       "      <td>1</td>\n",
       "      <td>1</td>\n",
       "      <td>20160413</td>\n",
       "      <td>GSW</td>\n",
       "      <td>MEM</td>\n",
       "    </tr>\n",
       "    <tr>\n",
       "      <th>3440</th>\n",
       "      <td>Shot Chart Detail</td>\n",
       "      <td>21501227</td>\n",
       "      <td>290</td>\n",
       "      <td>202691</td>\n",
       "      <td>Klay Thompson</td>\n",
       "      <td>1610612744</td>\n",
       "      <td>Golden State Warriors</td>\n",
       "      <td>3</td>\n",
       "      <td>8</td>\n",
       "      <td>25</td>\n",
       "      <td>Missed Shot</td>\n",
       "      <td>Jump Shot</td>\n",
       "      <td>3PT Field Goal</td>\n",
       "      <td>Above the Break 3</td>\n",
       "      <td>Right Side Center(RC)</td>\n",
       "      <td>24+ ft.</td>\n",
       "      <td>26</td>\n",
       "      <td>205</td>\n",
       "      <td>174</td>\n",
       "      <td>1</td>\n",
       "      <td>0</td>\n",
       "      <td>20160413</td>\n",
       "      <td>GSW</td>\n",
       "      <td>MEM</td>\n",
       "    </tr>\n",
       "    <tr>\n",
       "      <th>3441</th>\n",
       "      <td>Shot Chart Detail</td>\n",
       "      <td>21501227</td>\n",
       "      <td>320</td>\n",
       "      <td>202691</td>\n",
       "      <td>Klay Thompson</td>\n",
       "      <td>1610612744</td>\n",
       "      <td>Golden State Warriors</td>\n",
       "      <td>3</td>\n",
       "      <td>5</td>\n",
       "      <td>45</td>\n",
       "      <td>Missed Shot</td>\n",
       "      <td>Jump Shot</td>\n",
       "      <td>3PT Field Goal</td>\n",
       "      <td>Above the Break 3</td>\n",
       "      <td>Right Side Center(RC)</td>\n",
       "      <td>24+ ft.</td>\n",
       "      <td>29</td>\n",
       "      <td>168</td>\n",
       "      <td>237</td>\n",
       "      <td>1</td>\n",
       "      <td>0</td>\n",
       "      <td>20160413</td>\n",
       "      <td>GSW</td>\n",
       "      <td>MEM</td>\n",
       "    </tr>\n",
       "    <tr>\n",
       "      <th>3442</th>\n",
       "      <td>Shot Chart Detail</td>\n",
       "      <td>21501227</td>\n",
       "      <td>444</td>\n",
       "      <td>202691</td>\n",
       "      <td>Klay Thompson</td>\n",
       "      <td>1610612744</td>\n",
       "      <td>Golden State Warriors</td>\n",
       "      <td>4</td>\n",
       "      <td>5</td>\n",
       "      <td>8</td>\n",
       "      <td>Missed Shot</td>\n",
       "      <td>Jump Shot</td>\n",
       "      <td>3PT Field Goal</td>\n",
       "      <td>Above the Break 3</td>\n",
       "      <td>Right Side Center(RC)</td>\n",
       "      <td>24+ ft.</td>\n",
       "      <td>26</td>\n",
       "      <td>164</td>\n",
       "      <td>213</td>\n",
       "      <td>1</td>\n",
       "      <td>0</td>\n",
       "      <td>20160413</td>\n",
       "      <td>GSW</td>\n",
       "      <td>MEM</td>\n",
       "    </tr>\n",
       "  </tbody>\n",
       "</table>\n",
       "<p>1382 rows × 24 columns</p>\n",
       "</div>"
      ],
      "text/plain": [
       "              GRID_TYPE   GAME_ID  GAME_EVENT_ID  PLAYER_ID    PLAYER_NAME  \\\n",
       "2057  Shot Chart Detail  21500003             22     202691  Klay Thompson   \n",
       "2058  Shot Chart Detail  21500003             28     202691  Klay Thompson   \n",
       "2059  Shot Chart Detail  21500003             41     202691  Klay Thompson   \n",
       "2060  Shot Chart Detail  21500003            156     202691  Klay Thompson   \n",
       "2061  Shot Chart Detail  21500003            283     202691  Klay Thompson   \n",
       "...                 ...       ...            ...        ...            ...   \n",
       "3438  Shot Chart Detail  21501227            212     202691  Klay Thompson   \n",
       "3439  Shot Chart Detail  21501227            241     202691  Klay Thompson   \n",
       "3440  Shot Chart Detail  21501227            290     202691  Klay Thompson   \n",
       "3441  Shot Chart Detail  21501227            320     202691  Klay Thompson   \n",
       "3442  Shot Chart Detail  21501227            444     202691  Klay Thompson   \n",
       "\n",
       "         TEAM_ID              TEAM_NAME  PERIOD  MINUTES_REMAINING  \\\n",
       "2057  1610612744  Golden State Warriors       1                  8   \n",
       "2058  1610612744  Golden State Warriors       1                  8   \n",
       "2059  1610612744  Golden State Warriors       1                  6   \n",
       "2060  1610612744  Golden State Warriors       2                  9   \n",
       "2061  1610612744  Golden State Warriors       3                 11   \n",
       "...          ...                    ...     ...                ...   \n",
       "3438  1610612744  Golden State Warriors       2                  4   \n",
       "3439  1610612744  Golden State Warriors       2                  1   \n",
       "3440  1610612744  Golden State Warriors       3                  8   \n",
       "3441  1610612744  Golden State Warriors       3                  5   \n",
       "3442  1610612744  Golden State Warriors       4                  5   \n",
       "\n",
       "      SECONDS_REMAINING   EVENT_TYPE                     ACTION_TYPE  \\\n",
       "2057                 37  Missed Shot                       Jump Shot   \n",
       "2058                  5  Missed Shot              Fadeaway Jump Shot   \n",
       "2059                 22    Made Shot  Driving Finger Roll Layup Shot   \n",
       "2060                 34    Made Shot  Driving Finger Roll Layup Shot   \n",
       "2061                 43    Made Shot             Step Back Jump shot   \n",
       "...                 ...          ...                             ...   \n",
       "3438                  4    Made Shot                Pullup Jump shot   \n",
       "3439                 42    Made Shot                Pullup Jump shot   \n",
       "3440                 25  Missed Shot                       Jump Shot   \n",
       "3441                 45  Missed Shot                       Jump Shot   \n",
       "3442                  8  Missed Shot                       Jump Shot   \n",
       "\n",
       "           SHOT_TYPE        SHOT_ZONE_BASIC         SHOT_ZONE_AREA  \\\n",
       "2057  3PT Field Goal      Above the Break 3  Right Side Center(RC)   \n",
       "2058  2PT Field Goal  In The Paint (Non-RA)              Center(C)   \n",
       "2059  2PT Field Goal        Restricted Area              Center(C)   \n",
       "2060  2PT Field Goal        Restricted Area              Center(C)   \n",
       "2061  2PT Field Goal  In The Paint (Non-RA)              Center(C)   \n",
       "...              ...                    ...                    ...   \n",
       "3438  3PT Field Goal      Above the Break 3  Right Side Center(RC)   \n",
       "3439  3PT Field Goal         Right Corner 3          Right Side(R)   \n",
       "3440  3PT Field Goal      Above the Break 3  Right Side Center(RC)   \n",
       "3441  3PT Field Goal      Above the Break 3  Right Side Center(RC)   \n",
       "3442  3PT Field Goal      Above the Break 3  Right Side Center(RC)   \n",
       "\n",
       "      SHOT_ZONE_RANGE  SHOT_DISTANCE  LOC_X  LOC_Y  SHOT_ATTEMPTED_FLAG  \\\n",
       "2057          24+ ft.             24     82    232                    1   \n",
       "2058         8-16 ft.             14    -55    131                    1   \n",
       "2059  Less Than 8 ft.              1      3     10                    1   \n",
       "2060  Less Than 8 ft.              1    -16      8                    1   \n",
       "2061         8-16 ft.             13     66    116                    1   \n",
       "...               ...            ...    ...    ...                  ...   \n",
       "3438          24+ ft.             27     99    252                    1   \n",
       "3439          24+ ft.             25    240     80                    1   \n",
       "3440          24+ ft.             26    205    174                    1   \n",
       "3441          24+ ft.             29    168    237                    1   \n",
       "3442          24+ ft.             26    164    213                    1   \n",
       "\n",
       "      SHOT_MADE_FLAG  GAME_DATE  HTM  VTM  \n",
       "2057               0   20151027  GSW  NOP  \n",
       "2058               0   20151027  GSW  NOP  \n",
       "2059               1   20151027  GSW  NOP  \n",
       "2060               1   20151027  GSW  NOP  \n",
       "2061               1   20151027  GSW  NOP  \n",
       "...              ...        ...  ...  ...  \n",
       "3438               1   20160413  GSW  MEM  \n",
       "3439               1   20160413  GSW  MEM  \n",
       "3440               0   20160413  GSW  MEM  \n",
       "3441               0   20160413  GSW  MEM  \n",
       "3442               0   20160413  GSW  MEM  \n",
       "\n",
       "[1382 rows x 24 columns]"
      ]
     },
     "execution_count": 44,
     "metadata": {},
     "output_type": "execute_result"
    }
   ],
   "source": [
    "allplayersDataFrameDict['Klay_Thompson']"
   ]
  },
  {
   "cell_type": "code",
   "execution_count": 45,
   "metadata": {},
   "outputs": [],
   "source": [
    "for i in allplayersDataFrameDict:\n",
    "    allplayersDataFrameDict[i].to_csv('/Users/jaycohen/Documents/NYCDSA/Capstone_Project/NBA_Shot_Chart_Project/data/'+str(i)+'_shots.csv')"
   ]
  },
  {
   "cell_type": "code",
   "execution_count": null,
   "metadata": {},
   "outputs": [],
   "source": []
  }
 ],
 "metadata": {
  "kernelspec": {
   "display_name": "Python 3",
   "language": "python",
   "name": "python3"
  },
  "language_info": {
   "codemirror_mode": {
    "name": "ipython",
    "version": 3
   },
   "file_extension": ".py",
   "mimetype": "text/x-python",
   "name": "python",
   "nbconvert_exporter": "python",
   "pygments_lexer": "ipython3",
   "version": "3.7.6"
  }
 },
 "nbformat": 4,
 "nbformat_minor": 4
}
