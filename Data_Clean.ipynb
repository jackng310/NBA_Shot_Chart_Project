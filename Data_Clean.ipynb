{
 "cells": [
  {
   "cell_type": "code",
   "execution_count": 1,
   "metadata": {},
   "outputs": [],
   "source": [
    "import pandas as pd\n",
    "import numpy as np\n",
    "import seaborn as sns\n",
    "\n",
    "%matplotlib inline\n",
    "from matplotlib.patches import Circle, Rectangle, Arc\n",
    "import matplotlib.pyplot as plt\n",
    "pd.set_option('display.max_columns', None)"
   ]
  },
  {
   "cell_type": "code",
   "execution_count": 2,
   "metadata": {},
   "outputs": [],
   "source": [
    "shot_data = pd.read_csv('/Users/jaycohen/Documents/NYCDSA/Capstone_Project/NBA_Shot_Project/data/all_shots.csv')"
   ]
  },
  {
   "cell_type": "code",
   "execution_count": 6,
   "metadata": {},
   "outputs": [
    {
     "data": {
      "text/html": [
       "<div>\n",
       "<style scoped>\n",
       "    .dataframe tbody tr th:only-of-type {\n",
       "        vertical-align: middle;\n",
       "    }\n",
       "\n",
       "    .dataframe tbody tr th {\n",
       "        vertical-align: top;\n",
       "    }\n",
       "\n",
       "    .dataframe thead th {\n",
       "        text-align: right;\n",
       "    }\n",
       "</style>\n",
       "<table border=\"1\" class=\"dataframe\">\n",
       "  <thead>\n",
       "    <tr style=\"text-align: right;\">\n",
       "      <th></th>\n",
       "      <th>GRID_TYPE</th>\n",
       "      <th>GAME_ID</th>\n",
       "      <th>GAME_EVENT_ID</th>\n",
       "      <th>PLAYER_ID</th>\n",
       "      <th>PLAYER_NAME</th>\n",
       "      <th>TEAM_ID</th>\n",
       "      <th>TEAM_NAME</th>\n",
       "      <th>PERIOD</th>\n",
       "      <th>MINUTES_REMAINING</th>\n",
       "      <th>SECONDS_REMAINING</th>\n",
       "      <th>EVENT_TYPE</th>\n",
       "      <th>ACTION_TYPE</th>\n",
       "      <th>SHOT_TYPE</th>\n",
       "      <th>SHOT_ZONE_BASIC</th>\n",
       "      <th>SHOT_ZONE_AREA</th>\n",
       "      <th>SHOT_ZONE_RANGE</th>\n",
       "      <th>SHOT_DISTANCE</th>\n",
       "      <th>LOC_X</th>\n",
       "      <th>LOC_Y</th>\n",
       "      <th>SHOT_ATTEMPTED_FLAG</th>\n",
       "      <th>SHOT_MADE_FLAG</th>\n",
       "      <th>GAME_DATE</th>\n",
       "      <th>HTM</th>\n",
       "      <th>VTM</th>\n",
       "    </tr>\n",
       "  </thead>\n",
       "  <tbody>\n",
       "    <tr>\n",
       "      <th>0</th>\n",
       "      <td>Shot Chart Detail</td>\n",
       "      <td>21500014</td>\n",
       "      <td>20</td>\n",
       "      <td>202083</td>\n",
       "      <td>Wesley Matthews</td>\n",
       "      <td>1610612742</td>\n",
       "      <td>Dallas Mavericks</td>\n",
       "      <td>1</td>\n",
       "      <td>9</td>\n",
       "      <td>4</td>\n",
       "      <td>Missed Shot</td>\n",
       "      <td>Jump Shot</td>\n",
       "      <td>3PT Field Goal</td>\n",
       "      <td>Above the Break 3</td>\n",
       "      <td>Right Side Center(RC)</td>\n",
       "      <td>24+ ft.</td>\n",
       "      <td>24</td>\n",
       "      <td>78</td>\n",
       "      <td>228</td>\n",
       "      <td>1</td>\n",
       "      <td>0</td>\n",
       "      <td>20151028</td>\n",
       "      <td>PHX</td>\n",
       "      <td>DAL</td>\n",
       "    </tr>\n",
       "    <tr>\n",
       "      <th>1</th>\n",
       "      <td>Shot Chart Detail</td>\n",
       "      <td>21500014</td>\n",
       "      <td>168</td>\n",
       "      <td>202083</td>\n",
       "      <td>Wesley Matthews</td>\n",
       "      <td>1610612742</td>\n",
       "      <td>Dallas Mavericks</td>\n",
       "      <td>2</td>\n",
       "      <td>11</td>\n",
       "      <td>2</td>\n",
       "      <td>Missed Shot</td>\n",
       "      <td>Jump Shot</td>\n",
       "      <td>3PT Field Goal</td>\n",
       "      <td>Above the Break 3</td>\n",
       "      <td>Left Side Center(LC)</td>\n",
       "      <td>24+ ft.</td>\n",
       "      <td>25</td>\n",
       "      <td>-232</td>\n",
       "      <td>106</td>\n",
       "      <td>1</td>\n",
       "      <td>0</td>\n",
       "      <td>20151028</td>\n",
       "      <td>PHX</td>\n",
       "      <td>DAL</td>\n",
       "    </tr>\n",
       "    <tr>\n",
       "      <th>2</th>\n",
       "      <td>Shot Chart Detail</td>\n",
       "      <td>21500014</td>\n",
       "      <td>217</td>\n",
       "      <td>202083</td>\n",
       "      <td>Wesley Matthews</td>\n",
       "      <td>1610612742</td>\n",
       "      <td>Dallas Mavericks</td>\n",
       "      <td>2</td>\n",
       "      <td>8</td>\n",
       "      <td>10</td>\n",
       "      <td>Made Shot</td>\n",
       "      <td>Jump Shot</td>\n",
       "      <td>3PT Field Goal</td>\n",
       "      <td>Above the Break 3</td>\n",
       "      <td>Right Side Center(RC)</td>\n",
       "      <td>24+ ft.</td>\n",
       "      <td>24</td>\n",
       "      <td>177</td>\n",
       "      <td>174</td>\n",
       "      <td>1</td>\n",
       "      <td>1</td>\n",
       "      <td>20151028</td>\n",
       "      <td>PHX</td>\n",
       "      <td>DAL</td>\n",
       "    </tr>\n",
       "    <tr>\n",
       "      <th>3</th>\n",
       "      <td>Shot Chart Detail</td>\n",
       "      <td>21500014</td>\n",
       "      <td>340</td>\n",
       "      <td>202083</td>\n",
       "      <td>Wesley Matthews</td>\n",
       "      <td>1610612742</td>\n",
       "      <td>Dallas Mavericks</td>\n",
       "      <td>3</td>\n",
       "      <td>10</td>\n",
       "      <td>57</td>\n",
       "      <td>Made Shot</td>\n",
       "      <td>Jump Shot</td>\n",
       "      <td>3PT Field Goal</td>\n",
       "      <td>Above the Break 3</td>\n",
       "      <td>Right Side Center(RC)</td>\n",
       "      <td>24+ ft.</td>\n",
       "      <td>24</td>\n",
       "      <td>222</td>\n",
       "      <td>111</td>\n",
       "      <td>1</td>\n",
       "      <td>1</td>\n",
       "      <td>20151028</td>\n",
       "      <td>PHX</td>\n",
       "      <td>DAL</td>\n",
       "    </tr>\n",
       "    <tr>\n",
       "      <th>4</th>\n",
       "      <td>Shot Chart Detail</td>\n",
       "      <td>21500014</td>\n",
       "      <td>358</td>\n",
       "      <td>202083</td>\n",
       "      <td>Wesley Matthews</td>\n",
       "      <td>1610612742</td>\n",
       "      <td>Dallas Mavericks</td>\n",
       "      <td>3</td>\n",
       "      <td>9</td>\n",
       "      <td>33</td>\n",
       "      <td>Missed Shot</td>\n",
       "      <td>Jump Shot</td>\n",
       "      <td>2PT Field Goal</td>\n",
       "      <td>Mid-Range</td>\n",
       "      <td>Right Side(R)</td>\n",
       "      <td>16-24 ft.</td>\n",
       "      <td>21</td>\n",
       "      <td>182</td>\n",
       "      <td>110</td>\n",
       "      <td>1</td>\n",
       "      <td>0</td>\n",
       "      <td>20151028</td>\n",
       "      <td>PHX</td>\n",
       "      <td>DAL</td>\n",
       "    </tr>\n",
       "    <tr>\n",
       "      <th>...</th>\n",
       "      <td>...</td>\n",
       "      <td>...</td>\n",
       "      <td>...</td>\n",
       "      <td>...</td>\n",
       "      <td>...</td>\n",
       "      <td>...</td>\n",
       "      <td>...</td>\n",
       "      <td>...</td>\n",
       "      <td>...</td>\n",
       "      <td>...</td>\n",
       "      <td>...</td>\n",
       "      <td>...</td>\n",
       "      <td>...</td>\n",
       "      <td>...</td>\n",
       "      <td>...</td>\n",
       "      <td>...</td>\n",
       "      <td>...</td>\n",
       "      <td>...</td>\n",
       "      <td>...</td>\n",
       "      <td>...</td>\n",
       "      <td>...</td>\n",
       "      <td>...</td>\n",
       "      <td>...</td>\n",
       "      <td>...</td>\n",
       "    </tr>\n",
       "    <tr>\n",
       "      <th>205533</th>\n",
       "      <td>Shot Chart Detail</td>\n",
       "      <td>21501194</td>\n",
       "      <td>66</td>\n",
       "      <td>202693</td>\n",
       "      <td>Markieff Morris</td>\n",
       "      <td>1610612764</td>\n",
       "      <td>Washington Wizards</td>\n",
       "      <td>1</td>\n",
       "      <td>4</td>\n",
       "      <td>24</td>\n",
       "      <td>Made Shot</td>\n",
       "      <td>Tip Layup Shot</td>\n",
       "      <td>2PT Field Goal</td>\n",
       "      <td>Restricted Area</td>\n",
       "      <td>Center(C)</td>\n",
       "      <td>Less Than 8 ft.</td>\n",
       "      <td>2</td>\n",
       "      <td>-19</td>\n",
       "      <td>-16</td>\n",
       "      <td>1</td>\n",
       "      <td>1</td>\n",
       "      <td>20160410</td>\n",
       "      <td>WAS</td>\n",
       "      <td>CHA</td>\n",
       "    </tr>\n",
       "    <tr>\n",
       "      <th>205534</th>\n",
       "      <td>Shot Chart Detail</td>\n",
       "      <td>21501194</td>\n",
       "      <td>81</td>\n",
       "      <td>202693</td>\n",
       "      <td>Markieff Morris</td>\n",
       "      <td>1610612764</td>\n",
       "      <td>Washington Wizards</td>\n",
       "      <td>1</td>\n",
       "      <td>3</td>\n",
       "      <td>20</td>\n",
       "      <td>Made Shot</td>\n",
       "      <td>Jump Shot</td>\n",
       "      <td>2PT Field Goal</td>\n",
       "      <td>In The Paint (Non-RA)</td>\n",
       "      <td>Center(C)</td>\n",
       "      <td>8-16 ft.</td>\n",
       "      <td>9</td>\n",
       "      <td>-29</td>\n",
       "      <td>95</td>\n",
       "      <td>1</td>\n",
       "      <td>1</td>\n",
       "      <td>20160410</td>\n",
       "      <td>WAS</td>\n",
       "      <td>CHA</td>\n",
       "    </tr>\n",
       "    <tr>\n",
       "      <th>205535</th>\n",
       "      <td>Shot Chart Detail</td>\n",
       "      <td>21501194</td>\n",
       "      <td>301</td>\n",
       "      <td>202693</td>\n",
       "      <td>Markieff Morris</td>\n",
       "      <td>1610612764</td>\n",
       "      <td>Washington Wizards</td>\n",
       "      <td>3</td>\n",
       "      <td>10</td>\n",
       "      <td>18</td>\n",
       "      <td>Missed Shot</td>\n",
       "      <td>Jump Shot</td>\n",
       "      <td>3PT Field Goal</td>\n",
       "      <td>Above the Break 3</td>\n",
       "      <td>Center(C)</td>\n",
       "      <td>24+ ft.</td>\n",
       "      <td>27</td>\n",
       "      <td>-60</td>\n",
       "      <td>267</td>\n",
       "      <td>1</td>\n",
       "      <td>0</td>\n",
       "      <td>20160410</td>\n",
       "      <td>WAS</td>\n",
       "      <td>CHA</td>\n",
       "    </tr>\n",
       "    <tr>\n",
       "      <th>205536</th>\n",
       "      <td>Shot Chart Detail</td>\n",
       "      <td>21501194</td>\n",
       "      <td>327</td>\n",
       "      <td>202693</td>\n",
       "      <td>Markieff Morris</td>\n",
       "      <td>1610612764</td>\n",
       "      <td>Washington Wizards</td>\n",
       "      <td>3</td>\n",
       "      <td>8</td>\n",
       "      <td>13</td>\n",
       "      <td>Made Shot</td>\n",
       "      <td>Pullup Jump shot</td>\n",
       "      <td>2PT Field Goal</td>\n",
       "      <td>Mid-Range</td>\n",
       "      <td>Center(C)</td>\n",
       "      <td>16-24 ft.</td>\n",
       "      <td>18</td>\n",
       "      <td>-17</td>\n",
       "      <td>183</td>\n",
       "      <td>1</td>\n",
       "      <td>1</td>\n",
       "      <td>20160410</td>\n",
       "      <td>WAS</td>\n",
       "      <td>CHA</td>\n",
       "    </tr>\n",
       "    <tr>\n",
       "      <th>205537</th>\n",
       "      <td>Shot Chart Detail</td>\n",
       "      <td>21501194</td>\n",
       "      <td>352</td>\n",
       "      <td>202693</td>\n",
       "      <td>Markieff Morris</td>\n",
       "      <td>1610612764</td>\n",
       "      <td>Washington Wizards</td>\n",
       "      <td>3</td>\n",
       "      <td>5</td>\n",
       "      <td>31</td>\n",
       "      <td>Missed Shot</td>\n",
       "      <td>Jump Shot</td>\n",
       "      <td>3PT Field Goal</td>\n",
       "      <td>Above the Break 3</td>\n",
       "      <td>Left Side Center(LC)</td>\n",
       "      <td>24+ ft.</td>\n",
       "      <td>29</td>\n",
       "      <td>-155</td>\n",
       "      <td>247</td>\n",
       "      <td>1</td>\n",
       "      <td>0</td>\n",
       "      <td>20160410</td>\n",
       "      <td>WAS</td>\n",
       "      <td>CHA</td>\n",
       "    </tr>\n",
       "  </tbody>\n",
       "</table>\n",
       "<p>205538 rows × 24 columns</p>\n",
       "</div>"
      ],
      "text/plain": [
       "                GRID_TYPE   GAME_ID  GAME_EVENT_ID  PLAYER_ID  \\\n",
       "0       Shot Chart Detail  21500014             20     202083   \n",
       "1       Shot Chart Detail  21500014            168     202083   \n",
       "2       Shot Chart Detail  21500014            217     202083   \n",
       "3       Shot Chart Detail  21500014            340     202083   \n",
       "4       Shot Chart Detail  21500014            358     202083   \n",
       "...                   ...       ...            ...        ...   \n",
       "205533  Shot Chart Detail  21501194             66     202693   \n",
       "205534  Shot Chart Detail  21501194             81     202693   \n",
       "205535  Shot Chart Detail  21501194            301     202693   \n",
       "205536  Shot Chart Detail  21501194            327     202693   \n",
       "205537  Shot Chart Detail  21501194            352     202693   \n",
       "\n",
       "            PLAYER_NAME     TEAM_ID           TEAM_NAME  PERIOD  \\\n",
       "0       Wesley Matthews  1610612742    Dallas Mavericks       1   \n",
       "1       Wesley Matthews  1610612742    Dallas Mavericks       2   \n",
       "2       Wesley Matthews  1610612742    Dallas Mavericks       2   \n",
       "3       Wesley Matthews  1610612742    Dallas Mavericks       3   \n",
       "4       Wesley Matthews  1610612742    Dallas Mavericks       3   \n",
       "...                 ...         ...                 ...     ...   \n",
       "205533  Markieff Morris  1610612764  Washington Wizards       1   \n",
       "205534  Markieff Morris  1610612764  Washington Wizards       1   \n",
       "205535  Markieff Morris  1610612764  Washington Wizards       3   \n",
       "205536  Markieff Morris  1610612764  Washington Wizards       3   \n",
       "205537  Markieff Morris  1610612764  Washington Wizards       3   \n",
       "\n",
       "        MINUTES_REMAINING  SECONDS_REMAINING   EVENT_TYPE       ACTION_TYPE  \\\n",
       "0                       9                  4  Missed Shot         Jump Shot   \n",
       "1                      11                  2  Missed Shot         Jump Shot   \n",
       "2                       8                 10    Made Shot         Jump Shot   \n",
       "3                      10                 57    Made Shot         Jump Shot   \n",
       "4                       9                 33  Missed Shot         Jump Shot   \n",
       "...                   ...                ...          ...               ...   \n",
       "205533                  4                 24    Made Shot    Tip Layup Shot   \n",
       "205534                  3                 20    Made Shot         Jump Shot   \n",
       "205535                 10                 18  Missed Shot         Jump Shot   \n",
       "205536                  8                 13    Made Shot  Pullup Jump shot   \n",
       "205537                  5                 31  Missed Shot         Jump Shot   \n",
       "\n",
       "             SHOT_TYPE        SHOT_ZONE_BASIC         SHOT_ZONE_AREA  \\\n",
       "0       3PT Field Goal      Above the Break 3  Right Side Center(RC)   \n",
       "1       3PT Field Goal      Above the Break 3   Left Side Center(LC)   \n",
       "2       3PT Field Goal      Above the Break 3  Right Side Center(RC)   \n",
       "3       3PT Field Goal      Above the Break 3  Right Side Center(RC)   \n",
       "4       2PT Field Goal              Mid-Range          Right Side(R)   \n",
       "...                ...                    ...                    ...   \n",
       "205533  2PT Field Goal        Restricted Area              Center(C)   \n",
       "205534  2PT Field Goal  In The Paint (Non-RA)              Center(C)   \n",
       "205535  3PT Field Goal      Above the Break 3              Center(C)   \n",
       "205536  2PT Field Goal              Mid-Range              Center(C)   \n",
       "205537  3PT Field Goal      Above the Break 3   Left Side Center(LC)   \n",
       "\n",
       "        SHOT_ZONE_RANGE  SHOT_DISTANCE  LOC_X  LOC_Y  SHOT_ATTEMPTED_FLAG  \\\n",
       "0               24+ ft.             24     78    228                    1   \n",
       "1               24+ ft.             25   -232    106                    1   \n",
       "2               24+ ft.             24    177    174                    1   \n",
       "3               24+ ft.             24    222    111                    1   \n",
       "4             16-24 ft.             21    182    110                    1   \n",
       "...                 ...            ...    ...    ...                  ...   \n",
       "205533  Less Than 8 ft.              2    -19    -16                    1   \n",
       "205534         8-16 ft.              9    -29     95                    1   \n",
       "205535          24+ ft.             27    -60    267                    1   \n",
       "205536        16-24 ft.             18    -17    183                    1   \n",
       "205537          24+ ft.             29   -155    247                    1   \n",
       "\n",
       "        SHOT_MADE_FLAG  GAME_DATE  HTM  VTM  \n",
       "0                    0   20151028  PHX  DAL  \n",
       "1                    0   20151028  PHX  DAL  \n",
       "2                    1   20151028  PHX  DAL  \n",
       "3                    1   20151028  PHX  DAL  \n",
       "4                    0   20151028  PHX  DAL  \n",
       "...                ...        ...  ...  ...  \n",
       "205533               1   20160410  WAS  CHA  \n",
       "205534               1   20160410  WAS  CHA  \n",
       "205535               0   20160410  WAS  CHA  \n",
       "205536               1   20160410  WAS  CHA  \n",
       "205537               0   20160410  WAS  CHA  \n",
       "\n",
       "[205538 rows x 24 columns]"
      ]
     },
     "execution_count": 6,
     "metadata": {},
     "output_type": "execute_result"
    }
   ],
   "source": [
    "shot_data"
   ]
  },
  {
   "cell_type": "code",
   "execution_count": 7,
   "metadata": {},
   "outputs": [],
   "source": [
    "Atlanta_Hawks_shot_data = shot_data.loc[shot_data['TEAM_NAME'] == 'Atlanta Hawks']"
   ]
  },
  {
   "cell_type": "code",
   "execution_count": 11,
   "metadata": {},
   "outputs": [],
   "source": [
    "Atlanta_Hawks_shot_data.to_csv('/Users/jaycohen/Documents/NYCDSA/Capstone_Project/NBA_Shot_Project/new_data/Atlanta_Hawks_shot_data.csv')"
   ]
  },
  {
   "cell_type": "code",
   "execution_count": 12,
   "metadata": {},
   "outputs": [],
   "source": [
    "Boston_Celtics_shot_data = shot_data.loc[shot_data['TEAM_NAME'] == 'Boston Celtics']"
   ]
  },
  {
   "cell_type": "code",
   "execution_count": 13,
   "metadata": {},
   "outputs": [],
   "source": [
    "Boston_Celtics_shot_data.to_csv('/Users/jaycohen/Documents/NYCDSA/Capstone_Project/NBA_Shot_Project/new_data/Boston_Celtics_shot_data.csv')"
   ]
  },
  {
   "cell_type": "code",
   "execution_count": 14,
   "metadata": {},
   "outputs": [],
   "source": [
    "Brooklyn_Nets_shot_data = shot_data.loc[shot_data['TEAM_NAME'] == 'Brooklyn Nets']"
   ]
  },
  {
   "cell_type": "code",
   "execution_count": 15,
   "metadata": {},
   "outputs": [],
   "source": [
    "Brooklyn_Nets_shot_data.to_csv('/Users/jaycohen/Documents/NYCDSA/Capstone_Project/NBA_Shot_Project/new_data/Brooklyn_Nets_shot_data.csv')"
   ]
  },
  {
   "cell_type": "code",
   "execution_count": 16,
   "metadata": {},
   "outputs": [],
   "source": [
    "Charlotte_Hornets_shot_data = shot_data.loc[shot_data['TEAM_NAME'] == 'Charlotte Hornets']"
   ]
  },
  {
   "cell_type": "code",
   "execution_count": 17,
   "metadata": {},
   "outputs": [],
   "source": [
    "Charlotte_Hornets_shot_data.to_csv('/Users/jaycohen/Documents/NYCDSA/Capstone_Project/NBA_Shot_Project/new_data/Charlotte_Hornets_shot_data.csv')"
   ]
  },
  {
   "cell_type": "code",
   "execution_count": 18,
   "metadata": {},
   "outputs": [],
   "source": [
    "Chicago_Bulls_shot_data = shot_data.loc[shot_data['TEAM_NAME'] == 'Chicago Bulls']"
   ]
  },
  {
   "cell_type": "code",
   "execution_count": 19,
   "metadata": {},
   "outputs": [],
   "source": [
    "Chicago_Bulls_shot_data.to_csv('/Users/jaycohen/Documents/NYCDSA/Capstone_Project/NBA_Shot_Project/new_data/Chicago_Bulls_shot_data.csv')"
   ]
  },
  {
   "cell_type": "code",
   "execution_count": 20,
   "metadata": {},
   "outputs": [],
   "source": [
    "Cleveland_Cavaliers_shot_data = shot_data.loc[shot_data['TEAM_NAME'] == 'Cleveland Cavaliers']"
   ]
  },
  {
   "cell_type": "code",
   "execution_count": 21,
   "metadata": {},
   "outputs": [],
   "source": [
    "Cleveland_Cavaliers_shot_data.to_csv('/Users/jaycohen/Documents/NYCDSA/Capstone_Project/NBA_Shot_Project/new_data/Cleveland_Cavaliers_shot_data.csv')"
   ]
  },
  {
   "cell_type": "code",
   "execution_count": 22,
   "metadata": {},
   "outputs": [],
   "source": [
    "Dallas_Mavericks_shot_data = shot_data.loc[shot_data['TEAM_NAME'] == 'Dallas Mavericks']"
   ]
  },
  {
   "cell_type": "code",
   "execution_count": 23,
   "metadata": {},
   "outputs": [],
   "source": [
    "Dallas_Mavericks_shot_data.to_csv('/Users/jaycohen/Documents/NYCDSA/Capstone_Project/NBA_Shot_Project/new_data/Dallas_Mavericks_shot_data.csv')"
   ]
  },
  {
   "cell_type": "code",
   "execution_count": 24,
   "metadata": {},
   "outputs": [],
   "source": [
    "Denver_Nuggets_shot_data = shot_data.loc[shot_data['TEAM_NAME'] == 'Denver Nuggets']"
   ]
  },
  {
   "cell_type": "code",
   "execution_count": 25,
   "metadata": {},
   "outputs": [],
   "source": [
    "Denver_Nuggets_shot_data.to_csv('/Users/jaycohen/Documents/NYCDSA/Capstone_Project/NBA_Shot_Project/new_data/Denver_Nuggets_shot_data.csv')"
   ]
  },
  {
   "cell_type": "code",
   "execution_count": 26,
   "metadata": {},
   "outputs": [],
   "source": [
    "Detroit_Pistons_shot_data = shot_data.loc[shot_data['TEAM_NAME'] == 'Detroit Pistons']"
   ]
  },
  {
   "cell_type": "code",
   "execution_count": 27,
   "metadata": {},
   "outputs": [],
   "source": [
    "Detroit_Pistons_shot_data.to_csv('/Users/jaycohen/Documents/NYCDSA/Capstone_Project/NBA_Shot_Project/new_data/Detroit_Pistons_shot_data.csv')"
   ]
  },
  {
   "cell_type": "code",
   "execution_count": 28,
   "metadata": {},
   "outputs": [],
   "source": [
    "Golden_State_Warriors_shot_data = shot_data.loc[shot_data['TEAM_NAME'] == 'Golden State Warriors']"
   ]
  },
  {
   "cell_type": "code",
   "execution_count": 29,
   "metadata": {},
   "outputs": [],
   "source": [
    "Golden_State_Warriors_shot_data.to_csv('/Users/jaycohen/Documents/NYCDSA/Capstone_Project/NBA_Shot_Project/new_data/Golden_State_Warriors_shot_data.csv')"
   ]
  },
  {
   "cell_type": "code",
   "execution_count": 30,
   "metadata": {},
   "outputs": [],
   "source": [
    "Houston_Rockets_shot_data = shot_data.loc[shot_data['TEAM_NAME'] == 'Houston Rockets']"
   ]
  },
  {
   "cell_type": "code",
   "execution_count": 31,
   "metadata": {},
   "outputs": [],
   "source": [
    "Houston_Rockets_shot_data.to_csv('/Users/jaycohen/Documents/NYCDSA/Capstone_Project/NBA_Shot_Project/new_data/Houston_Rockets_shot_data.csv')"
   ]
  },
  {
   "cell_type": "code",
   "execution_count": 32,
   "metadata": {},
   "outputs": [],
   "source": [
    "Indiana_Pacers_shot_data = shot_data.loc[shot_data['TEAM_NAME'] == 'Indiana Pacers']"
   ]
  },
  {
   "cell_type": "code",
   "execution_count": 33,
   "metadata": {},
   "outputs": [],
   "source": [
    "Indiana_Pacers_shot_data.to_csv('/Users/jaycohen/Documents/NYCDSA/Capstone_Project/NBA_Shot_Project/new_data/Indiana_Pacers_shot_data.csv')"
   ]
  },
  {
   "cell_type": "code",
   "execution_count": 34,
   "metadata": {},
   "outputs": [],
   "source": [
    "LA_Clippers_shot_data = shot_data.loc[shot_data['TEAM_NAME'] == 'LA Clippers']"
   ]
  },
  {
   "cell_type": "code",
   "execution_count": 35,
   "metadata": {},
   "outputs": [],
   "source": [
    "LA_Clippers_shot_data.to_csv('/Users/jaycohen/Documents/NYCDSA/Capstone_Project/NBA_Shot_Project/new_data/LA_Clippers_shot_data.csv')"
   ]
  },
  {
   "cell_type": "code",
   "execution_count": 36,
   "metadata": {},
   "outputs": [],
   "source": [
    "Los_Angeles_Lakers_shot_data = shot_data.loc[shot_data['TEAM_NAME'] == 'Los Angeles Lakers']"
   ]
  },
  {
   "cell_type": "code",
   "execution_count": 37,
   "metadata": {},
   "outputs": [],
   "source": [
    "Los_Angeles_Lakers_shot_data.to_csv('/Users/jaycohen/Documents/NYCDSA/Capstone_Project/NBA_Shot_Project/new_data/Los_Angeles_Lakers_shot_data.csv')"
   ]
  },
  {
   "cell_type": "code",
   "execution_count": 38,
   "metadata": {},
   "outputs": [],
   "source": [
    "Memphis_Grizzlies_shot_data = shot_data.loc[shot_data['TEAM_NAME'] == 'Memphis Grizzlies']"
   ]
  },
  {
   "cell_type": "code",
   "execution_count": 39,
   "metadata": {},
   "outputs": [],
   "source": [
    "Memphis_Grizzlies_shot_data.to_csv('/Users/jaycohen/Documents/NYCDSA/Capstone_Project/NBA_Shot_Project/new_data/Memphis_Grizzlies_shot_data.csv')"
   ]
  },
  {
   "cell_type": "code",
   "execution_count": 40,
   "metadata": {},
   "outputs": [],
   "source": [
    "Miami_Heat_shot_data = shot_data.loc[shot_data['TEAM_NAME'] == 'Miami Heat']"
   ]
  },
  {
   "cell_type": "code",
   "execution_count": 41,
   "metadata": {},
   "outputs": [],
   "source": [
    "Miami_Heat_shot_data.to_csv('/Users/jaycohen/Documents/NYCDSA/Capstone_Project/NBA_Shot_Project/new_data/Miami_Heat_shot_data.csv')"
   ]
  },
  {
   "cell_type": "code",
   "execution_count": 42,
   "metadata": {},
   "outputs": [],
   "source": [
    "Milwaukee_Bucks_shot_data = shot_data.loc[shot_data['TEAM_NAME'] == 'Milwaukee Bucks']"
   ]
  },
  {
   "cell_type": "code",
   "execution_count": 43,
   "metadata": {},
   "outputs": [],
   "source": [
    "Milwaukee_Bucks_shot_data.to_csv('/Users/jaycohen/Documents/NYCDSA/Capstone_Project/NBA_Shot_Project/new_data/Milwaukee_Bucks_shot_data.csv')"
   ]
  },
  {
   "cell_type": "code",
   "execution_count": 44,
   "metadata": {},
   "outputs": [],
   "source": [
    "Minnesota_Timberwolves_shot_data = shot_data.loc[shot_data['TEAM_NAME'] == 'Minnesota Timberwolves']"
   ]
  },
  {
   "cell_type": "code",
   "execution_count": 45,
   "metadata": {},
   "outputs": [],
   "source": [
    "Minnesota_Timberwolves_shot_data.to_csv('/Users/jaycohen/Documents/NYCDSA/Capstone_Project/NBA_Shot_Project/new_data/Minnesota_Timberwolves_shot_data.csv')"
   ]
  },
  {
   "cell_type": "code",
   "execution_count": 46,
   "metadata": {},
   "outputs": [],
   "source": [
    "New_Orleans_Pelicans_shot_data = shot_data.loc[shot_data['TEAM_NAME'] == 'New Orleans Pelicans']"
   ]
  },
  {
   "cell_type": "code",
   "execution_count": 47,
   "metadata": {},
   "outputs": [],
   "source": [
    "New_Orleans_Pelicans_shot_data.to_csv('/Users/jaycohen/Documents/NYCDSA/Capstone_Project/NBA_Shot_Project/new_data/New_Orleans_Pelicans_shot_data.csv')"
   ]
  },
  {
   "cell_type": "code",
   "execution_count": 48,
   "metadata": {},
   "outputs": [],
   "source": [
    "New_York_Knicks_shot_data = shot_data.loc[shot_data['TEAM_NAME'] == 'New York Knicks']"
   ]
  },
  {
   "cell_type": "code",
   "execution_count": 49,
   "metadata": {},
   "outputs": [],
   "source": [
    "New_York_Knicks_shot_data.to_csv('/Users/jaycohen/Documents/NYCDSA/Capstone_Project/NBA_Shot_Project/new_data/New_York_Knicks_shot_data.csv')"
   ]
  },
  {
   "cell_type": "code",
   "execution_count": 50,
   "metadata": {},
   "outputs": [],
   "source": [
    "Oklahoma_City_Thunder_shot_data = shot_data.loc[shot_data['TEAM_NAME'] == 'Oklahoma City Thunder']"
   ]
  },
  {
   "cell_type": "code",
   "execution_count": 51,
   "metadata": {},
   "outputs": [],
   "source": [
    "Oklahoma_City_Thunder_shot_data.to_csv('/Users/jaycohen/Documents/NYCDSA/Capstone_Project/NBA_Shot_Project/new_data/Oklahoma_City_Thunder_shot_data.csv')"
   ]
  },
  {
   "cell_type": "code",
   "execution_count": 52,
   "metadata": {},
   "outputs": [],
   "source": [
    "Orlando_Magic_shot_data = shot_data.loc[shot_data['TEAM_NAME'] == 'Orlando Magic']"
   ]
  },
  {
   "cell_type": "code",
   "execution_count": 53,
   "metadata": {},
   "outputs": [],
   "source": [
    "Orlando_Magic_shot_data.to_csv('/Users/jaycohen/Documents/NYCDSA/Capstone_Project/NBA_Shot_Project/new_data/Orlando_Magic_shot_data.csv')"
   ]
  },
  {
   "cell_type": "code",
   "execution_count": 54,
   "metadata": {},
   "outputs": [],
   "source": [
    "Philadelphia_76ers_shot_data = shot_data.loc[shot_data['TEAM_NAME'] == 'Philadelphia_76ers']"
   ]
  },
  {
   "cell_type": "code",
   "execution_count": 55,
   "metadata": {},
   "outputs": [],
   "source": [
    "Philadelphia_76ers_shot_data.to_csv('/Users/jaycohen/Documents/NYCDSA/Capstone_Project/NBA_Shot_Project/new_data/Philadelphia_76ers_shot_data.csv')"
   ]
  },
  {
   "cell_type": "code",
   "execution_count": 56,
   "metadata": {},
   "outputs": [],
   "source": [
    "Phoenix_Suns_shot_data = shot_data.loc[shot_data['TEAM_NAME'] == 'Phoenix Suns']"
   ]
  },
  {
   "cell_type": "code",
   "execution_count": 57,
   "metadata": {},
   "outputs": [],
   "source": [
    "Phoenix_Suns_shot_data.to_csv('/Users/jaycohen/Documents/NYCDSA/Capstone_Project/NBA_Shot_Project/new_data/Phoenix_Suns_shot_data.csv')"
   ]
  },
  {
   "cell_type": "code",
   "execution_count": 58,
   "metadata": {},
   "outputs": [],
   "source": [
    "Portland_Trail_Blazers_shot_data = shot_data.loc[shot_data['TEAM_NAME'] == 'Portland Trail Blazers']"
   ]
  },
  {
   "cell_type": "code",
   "execution_count": 59,
   "metadata": {},
   "outputs": [],
   "source": [
    "Portland_Trail_Blazers_shot_data.to_csv('/Users/jaycohen/Documents/NYCDSA/Capstone_Project/NBA_Shot_Project/new_data/Portland_Trail_Blazers_shot_data.csv')"
   ]
  },
  {
   "cell_type": "code",
   "execution_count": 60,
   "metadata": {},
   "outputs": [],
   "source": [
    "Sacramento_Kings_shot_data = shot_data.loc[shot_data['TEAM_NAME'] == 'Sacramento Kings']"
   ]
  },
  {
   "cell_type": "code",
   "execution_count": 61,
   "metadata": {},
   "outputs": [],
   "source": [
    "Sacramento_Kings_shot_data.to_csv('/Users/jaycohen/Documents/NYCDSA/Capstone_Project/NBA_Shot_Project/new_data/Sacramento_Kings_shot_data.csv')"
   ]
  },
  {
   "cell_type": "code",
   "execution_count": 62,
   "metadata": {},
   "outputs": [],
   "source": [
    "San_Antonio_Spurs_shot_data = shot_data.loc[shot_data['TEAM_NAME'] == 'San Antonio Spurs']"
   ]
  },
  {
   "cell_type": "code",
   "execution_count": 63,
   "metadata": {},
   "outputs": [],
   "source": [
    "San_Antonio_Spurs_shot_data.to_csv('/Users/jaycohen/Documents/NYCDSA/Capstone_Project/NBA_Shot_Project/new_data/San_Antonio_Spurs_shot_data.csv')"
   ]
  },
  {
   "cell_type": "code",
   "execution_count": 64,
   "metadata": {},
   "outputs": [],
   "source": [
    "Toronto_Raptors_shot_data = shot_data.loc[shot_data['TEAM_NAME'] == 'Toronto Raptors']"
   ]
  },
  {
   "cell_type": "code",
   "execution_count": 65,
   "metadata": {},
   "outputs": [],
   "source": [
    "Toronto_Raptors_shot_data.to_csv('/Users/jaycohen/Documents/NYCDSA/Capstone_Project/NBA_Shot_Project/new_data/Toronto_Raptors_shot_data.csv')"
   ]
  },
  {
   "cell_type": "code",
   "execution_count": 66,
   "metadata": {},
   "outputs": [],
   "source": [
    "Utah_Jazz_shot_data = shot_data.loc[shot_data['TEAM_NAME'] == 'Utah Jazz']"
   ]
  },
  {
   "cell_type": "code",
   "execution_count": 67,
   "metadata": {},
   "outputs": [],
   "source": [
    "Utah_Jazz_shot_data.to_csv('/Users/jaycohen/Documents/NYCDSA/Capstone_Project/NBA_Shot_Project/new_data/Utah_Jazz_shot_data.csv')"
   ]
  },
  {
   "cell_type": "code",
   "execution_count": 68,
   "metadata": {},
   "outputs": [],
   "source": [
    "Washington_Wizards_shot_data = shot_data.loc[shot_data['TEAM_NAME'] == 'Washington Wizards']"
   ]
  },
  {
   "cell_type": "code",
   "execution_count": 69,
   "metadata": {},
   "outputs": [],
   "source": [
    "Washington_Wizards_shot_data.to_csv('/Users/jaycohen/Documents/NYCDSA/Capstone_Project/NBA_Shot_Project/new_data/Washington_Wizards_shot_data.csv')"
   ]
  },
  {
   "cell_type": "code",
   "execution_count": null,
   "metadata": {},
   "outputs": [],
   "source": []
  }
 ],
 "metadata": {
  "kernelspec": {
   "display_name": "Python 3",
   "language": "python",
   "name": "python3"
  },
  "language_info": {
   "codemirror_mode": {
    "name": "ipython",
    "version": 3
   },
   "file_extension": ".py",
   "mimetype": "text/x-python",
   "name": "python",
   "nbconvert_exporter": "python",
   "pygments_lexer": "ipython3",
   "version": "3.7.6"
  }
 },
 "nbformat": 4,
 "nbformat_minor": 4
}
